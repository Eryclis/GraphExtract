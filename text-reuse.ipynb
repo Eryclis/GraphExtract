{
 "cells": [
  {
   "cell_type": "code",
   "execution_count": 1,
   "id": "7d989e5e",
   "metadata": {},
   "outputs": [],
   "source": [
    "import pandas as pd\n",
    "import ast"
   ]
  },
  {
   "cell_type": "code",
   "execution_count": 2,
   "id": "0fb26156",
   "metadata": {},
   "outputs": [],
   "source": [
    "from text_matcher import matcher\n"
   ]
  },
  {
   "cell_type": "code",
   "execution_count": 4,
   "id": "f87910a8",
   "metadata": {},
   "outputs": [],
   "source": [
    "pairs=pd.read_csv(\"../Downloads/Code - Knowledge Graph/Code - Knowledge Graph/pairs.csv\")"
   ]
  },
  {
   "cell_type": "code",
   "execution_count": 5,
   "id": "f8e23ec1",
   "metadata": {},
   "outputs": [],
   "source": [
    "def conv(inp):\n",
    "    return ast.literal_eval(inp)"
   ]
  },
  {
   "cell_type": "code",
   "execution_count": 6,
   "id": "e2f217cb",
   "metadata": {},
   "outputs": [],
   "source": [
    "pairs[\"neighbors\"]=pairs[\"neighbors\"].apply(conv)\n",
    "pairs[\"non-neighbors\"]=pairs[\"non-neighbors\"].apply(conv)"
   ]
  },
  {
   "cell_type": "code",
   "execution_count": 7,
   "id": "5e1e2e3a",
   "metadata": {},
   "outputs": [],
   "source": [
    "tp=set()\n",
    "fp=set()\n",
    "for i,row in pairs.iterrows():\n",
    "    p1=row[2]\n",
    "    for n in row[3]:\n",
    "        \n",
    "        pair=[p1,n]\n",
    "        pair.sort()\n",
    "        tp.add(tuple(pair))\n",
    "    for n in row[4]:\n",
    "        pair=[p1,n]\n",
    "        pair.sort()\n",
    "        fp.add(tuple(pair))"
   ]
  },
  {
   "cell_type": "code",
   "execution_count": 8,
   "id": "34443eaf",
   "metadata": {},
   "outputs": [
    {
     "data": {
      "text/plain": [
       "9751"
      ]
     },
     "execution_count": 8,
     "metadata": {},
     "output_type": "execute_result"
    }
   ],
   "source": [
    "len(tp)"
   ]
  },
  {
   "cell_type": "code",
   "execution_count": 9,
   "id": "5042f7e9",
   "metadata": {},
   "outputs": [
    {
     "data": {
      "text/plain": [
       "22266"
      ]
     },
     "execution_count": 9,
     "metadata": {},
     "output_type": "execute_result"
    }
   ],
   "source": [
    "len(fp)"
   ]
  },
  {
   "cell_type": "code",
   "execution_count": 10,
   "id": "aa7a7e9e",
   "metadata": {},
   "outputs": [],
   "source": [
    "path=\"C:/Users/lucia/Downloads/Code - Knowledge Graph/Code - Knowledge Graph/semantic/\""
   ]
  },
  {
   "cell_type": "code",
   "execution_count": null,
   "id": "b0060d7a",
   "metadata": {},
   "outputs": [],
   "source": []
  },
  {
   "cell_type": "code",
   "execution_count": 18,
   "id": "67771482",
   "metadata": {},
   "outputs": [],
   "source": [
    "%%capture\n",
    "\n",
    "is_cite=[]\n",
    "p1=[]\n",
    "p2=[]\n",
    "score=[]\n",
    "lens=[]\n",
    "failed=0\n",
    "count=0\n",
    "for p in tp:\n",
    "    try:\n",
    "        if count%50==0:\n",
    "            print(count)\n",
    "        count+=1\n",
    "        \n",
    "        ta = matcher.Text(open(path+p[0]+\".txt\", encoding=\"utf-8\").read()[350:-2000], 'p1')\n",
    "        tb = matcher.Text(open(path+p[1]+\".txt\", encoding=\"utf-8\").read()[350:-2000], 'p2')\n",
    "        score.append(matcher.Matcher(ta, tb).match()[0])\n",
    "        lens.append(len(ta.text)+len(tb.text))\n",
    "        p1.append(p[0])\n",
    "        p2.append(p[1])\n",
    "        is_cite.append(1)\n",
    "    except:\n",
    "        failed+=1\n",
    "        continue"
   ]
  },
  {
   "cell_type": "code",
   "execution_count": 19,
   "id": "a415da2d",
   "metadata": {},
   "outputs": [],
   "source": [
    "%%capture\n",
    "count=0\n",
    "\n",
    "for p in fp:\n",
    "    try:\n",
    "        if count>15000:\n",
    "            break\n",
    "        count+=1\n",
    "        \n",
    "        ta = matcher.Text(open(path+p[0]+\".txt\", encoding=\"utf-8\").read()[350:-2000], 'p1')\n",
    "        tb = matcher.Text(open(path+p[1]+\".txt\", encoding=\"utf-8\").read()[350:-2000], 'p2')\n",
    "        score.append(matcher.Matcher(ta, tb).match()[0])\n",
    "        lens.append(len(ta.text)+len(tb.text))\n",
    "        p1.append(p[0])\n",
    "        p2.append(p[1])\n",
    "        is_cite.append(0)\n",
    "    except:\n",
    "        failed+=1\n",
    "        continue"
   ]
  },
  {
   "cell_type": "code",
   "execution_count": 20,
   "id": "3ce0f8cf",
   "metadata": {},
   "outputs": [],
   "source": [
    "out=pd.DataFrame([p1,p2,is_cite,lens,score]).T\n",
    "out.to_csv(\"textreuse.csv\")"
   ]
  },
  {
   "cell_type": "code",
   "execution_count": 21,
   "id": "f01c4d62",
   "metadata": {},
   "outputs": [],
   "source": [
    "out[4]=out[4]/out[3]"
   ]
  },
  {
   "cell_type": "code",
   "execution_count": 22,
   "id": "b99f2b14",
   "metadata": {},
   "outputs": [
    {
     "data": {
      "text/plain": [
       "4.424911882236665e-06"
      ]
     },
     "execution_count": 22,
     "metadata": {},
     "output_type": "execute_result"
    }
   ],
   "source": [
    "out[out[2]==1][4].mean()"
   ]
  },
  {
   "cell_type": "code",
   "execution_count": 23,
   "id": "98e528e1",
   "metadata": {},
   "outputs": [
    {
     "data": {
      "text/plain": [
       "2.815995701034936e-06"
      ]
     },
     "execution_count": 23,
     "metadata": {},
     "output_type": "execute_result"
    }
   ],
   "source": [
    "out[out[2]==0][4].mean()"
   ]
  },
  {
   "cell_type": "code",
   "execution_count": null,
   "id": "803e0ef7",
   "metadata": {},
   "outputs": [],
   "source": []
  }
 ],
 "metadata": {
  "kernelspec": {
   "display_name": "Python 3 (ipykernel)",
   "language": "python",
   "name": "python3"
  },
  "language_info": {
   "codemirror_mode": {
    "name": "ipython",
    "version": 3
   },
   "file_extension": ".py",
   "mimetype": "text/x-python",
   "name": "python",
   "nbconvert_exporter": "python",
   "pygments_lexer": "ipython3",
   "version": "3.11.5"
  }
 },
 "nbformat": 4,
 "nbformat_minor": 5
}
