{
 "cells": [
  {
   "cell_type": "code",
   "execution_count": 1,
   "id": "13e54aee",
   "metadata": {},
   "outputs": [],
   "source": [
    "import os\n",
    "\n",
    "os.environ[\"DGLBACKEND\"] = \"pytorch\"\n",
    "import dgl\n",
    "import dgl.data\n",
    "import torch\n",
    "import torch.nn as nn\n",
    "import torch.nn.functional as F"
   ]
  },
  {
   "cell_type": "code",
   "execution_count": 2,
   "id": "36ba54c7",
   "metadata": {},
   "outputs": [],
   "source": [
    "import pandas as pd\n",
    "import ast\n",
    "def conv(inp):\n",
    "    return ast.literal_eval(inp)"
   ]
  },
  {
   "cell_type": "code",
   "execution_count": 3,
   "id": "ce9d85aa",
   "metadata": {},
   "outputs": [],
   "source": [
    "pairs=pd.read_csv(\"textreuse.csv\")"
   ]
  },
  {
   "cell_type": "code",
   "execution_count": 4,
   "id": "075cf078",
   "metadata": {},
   "outputs": [],
   "source": [
    "import pickle\n",
    "\n",
    "# open a file, where you stored the pickled data\n",
    "file = open('nodes_dict.obj', 'rb')\n",
    "\n",
    "nodee = pickle.load(file)"
   ]
  },
  {
   "cell_type": "code",
   "execution_count": 5,
   "id": "19ea0c0d",
   "metadata": {},
   "outputs": [],
   "source": [
    "ids=set(pairs[\"0\"])\n",
    "ids.update(pairs[\"1\"])"
   ]
  },
  {
   "cell_type": "code",
   "execution_count": 6,
   "id": "2c9790cb",
   "metadata": {},
   "outputs": [
    {
     "name": "stderr",
     "output_type": "stream",
     "text": [
      "C:\\Users\\lucia\\AppData\\Local\\Temp\\ipykernel_23628\\573558180.py:33: UserWarning: Creating a tensor from a list of numpy.ndarrays is extremely slow. Please consider converting the list to a single numpy.ndarray with numpy.array() before converting to a tensor. (Triggered internally at C:\\cb\\pytorch_1000000000000\\work\\torch\\csrc\\utils\\tensor_new.cpp:278.)\n",
      "  g.ndata[\"attr\"]=torch.FloatTensor(feat)\n"
     ]
    }
   ],
   "source": [
    "graphs=dict()\n",
    "for f in os.listdir(\"out/\"):\n",
    "    curr=0\n",
    "    tens=dict()\n",
    "    id=f.split(\".\")[0]\n",
    "    nodes=pd.read_csv(\"out/\"+f, sep=\"|\")\n",
    "    tens1=[]\n",
    "    tens2=[]\n",
    "    feat=[]\n",
    "    for n in nodes[\"node_1\"]:\n",
    "        if n in tens:\n",
    "            tens1.append(tens[n])\n",
    "        else:\n",
    "            tens[n]=curr\n",
    "            tens1.append(curr)\n",
    "            try:\n",
    "                feat.append(nodee[n])\n",
    "            except:\n",
    "                feat.append([0]*384)\n",
    "            curr+=1\n",
    "    for n in nodes[\"node_2\"]:\n",
    "        if n in tens:\n",
    "            tens2.append(tens[n])\n",
    "        else:\n",
    "            tens[n]=curr\n",
    "            tens2.append(curr)\n",
    "            try:\n",
    "                feat.append(nodee[n])\n",
    "            except:\n",
    "                feat.append([0]*384)\n",
    "            curr+=1\n",
    "    g=dgl.graph((tens1,tens2))\n",
    "    g.ndata[\"attr\"]=torch.FloatTensor(feat)\n",
    "    graphs[id]=dgl.add_self_loop(g)\n",
    "    \n",
    "    "
   ]
  },
  {
   "cell_type": "code",
   "execution_count": 7,
   "id": "3861475d",
   "metadata": {},
   "outputs": [],
   "source": [
    "pairs[\"2\"]=pairs[\"2\"].replace(0,-1)"
   ]
  },
  {
   "cell_type": "code",
   "execution_count": 8,
   "id": "694ce986",
   "metadata": {},
   "outputs": [],
   "source": [
    "g=[]\n",
    "for i in range(0,len(pairs)):\n",
    "    g1=pairs[\"0\"][i]\n",
    "    g2=pairs[\"1\"][i]\n",
    "    if g1 in graphs and g2 in graphs:\n",
    "        g.append((dgl.add_self_loop(graphs[g1]), dgl.add_self_loop(graphs[g2]), pairs[\"2\"][i]))"
   ]
  },
  {
   "cell_type": "code",
   "execution_count": 9,
   "id": "357bfd30",
   "metadata": {},
   "outputs": [],
   "source": [
    "import random\n",
    "random.shuffle(g)\n"
   ]
  },
  {
   "cell_type": "code",
   "execution_count": 10,
   "id": "0e317229",
   "metadata": {},
   "outputs": [],
   "source": [
    "dataset = g"
   ]
  },
  {
   "cell_type": "code",
   "execution_count": 11,
   "id": "e6807c50",
   "metadata": {},
   "outputs": [],
   "source": [
    "from dgl.dataloading import GraphDataLoader\n",
    "from torch.utils.data.sampler import SubsetRandomSampler\n",
    "\n",
    "num_examples = len(dataset)\n",
    "num_train = int(num_examples * 0.8)\n",
    "\n",
    "train_sampler = SubsetRandomSampler(torch.arange(num_train))\n",
    "test_sampler = SubsetRandomSampler(torch.arange(num_train, num_examples))\n",
    "\n",
    "train_dataloader = GraphDataLoader(\n",
    "    dataset, sampler=train_sampler, batch_size=10, drop_last=False\n",
    ")\n",
    "test_dataloader = GraphDataLoader(\n",
    "    dataset, sampler=test_sampler, batch_size=10, drop_last=False\n",
    ")"
   ]
  },
  {
   "cell_type": "code",
   "execution_count": 12,
   "id": "567c8d0f",
   "metadata": {},
   "outputs": [
    {
     "name": "stdout",
     "output_type": "stream",
     "text": [
      "[Graph(num_nodes=2082, num_edges=6379,\n",
      "      ndata_schemes={'attr': Scheme(shape=(384,), dtype=torch.float32)}\n",
      "      edata_schemes={}), Graph(num_nodes=2005, num_edges=6171,\n",
      "      ndata_schemes={'attr': Scheme(shape=(384,), dtype=torch.float32)}\n",
      "      edata_schemes={}), tensor([ 1, -1, -1, -1,  1,  1, -1,  1, -1,  1])]\n"
     ]
    }
   ],
   "source": [
    "it = iter(train_dataloader)\n",
    "batch = next(it)\n",
    "print(batch)"
   ]
  },
  {
   "cell_type": "code",
   "execution_count": 13,
   "id": "b0c29bed",
   "metadata": {},
   "outputs": [],
   "source": [
    "from dgl.nn import GraphConv\n",
    "\n",
    "\n",
    "class GCN(nn.Module):\n",
    "    def __init__(self, in_feats, h_feats):\n",
    "        super(GCN, self).__init__()\n",
    "        self.conv1 = GraphConv(in_feats, h_feats)\n",
    "        self.conv2 = GraphConv(h_feats, h_feats)\n",
    "        self.conv3 = GraphConv(h_feats, 100)\n",
    "\n",
    "    def forward(self, g, in_feat):\n",
    "        h = self.conv1(g, in_feat)\n",
    "        h = F.relu(h)\n",
    "        h = self.conv2(g, h)\n",
    "        h = F.relu(h)\n",
    "        h = self.conv3(g, h)\n",
    "        g.ndata[\"h\"] = h\n",
    "        return dgl.mean_nodes(g, \"h\")"
   ]
  },
  {
   "cell_type": "code",
   "execution_count": 14,
   "id": "074260fd",
   "metadata": {},
   "outputs": [],
   "source": [
    "from dgl.nn import GATConv"
   ]
  },
  {
   "cell_type": "code",
   "execution_count": 43,
   "id": "5e8346b4",
   "metadata": {},
   "outputs": [],
   "source": [
    "class GAT(nn.Module):\n",
    "    def __init__(self, in_feats, h_feats, num_heads):\n",
    "        super(GAT, self).__init__()\n",
    "        self.layer1 = GATConv(in_feats, h_feats, num_heads=num_heads, activation=F.relu)\n",
    "        self.layer2 = GATConv(h_feats * num_heads, h_feats, num_heads=num_heads, activation=F.relu)\n",
    "        self.layer3 = GATConv(h_feats * num_heads, 100, num_heads=num_heads)\n",
    "\n",
    "    def forward(self, g, h):\n",
    "        h = self.layer1(g, h).flatten(1)\n",
    "        h = self.layer2(g, h).flatten(1)\n",
    "        h = self.layer3(g, h).mean(1)\n",
    "        g.ndata[\"h\"] = h\n",
    "        return dgl.mean_nodes(g, \"h\")\n",
    "\n",
    "\n",
    "#model = GAT(384, 500, , num_heads=3)"
   ]
  },
  {
   "cell_type": "code",
   "execution_count": 15,
   "id": "8ee0b33c",
   "metadata": {},
   "outputs": [
    {
     "name": "stdout",
     "output_type": "stream",
     "text": [
      "0\n",
      "435.52069756761193\n",
      "5\n",
      "431.8107164874673\n",
      "10\n",
      "362.1798340380192\n",
      "15\n",
      "342.3240352421999\n",
      "20\n",
      "328.15823068097234\n",
      "25\n",
      "315.58432092517614\n",
      "30\n",
      "305.6482518836856\n",
      "35\n",
      "296.5576142966747\n",
      "40\n",
      "286.59989119693637\n",
      "45\n",
      "274.24538215994835\n",
      "50\n",
      "264.35005539283156\n",
      "55\n",
      "256.39838591217995\n",
      "60\n",
      "244.46449552569538\n",
      "65\n",
      "234.92561929486692\n",
      "70\n",
      "227.28794410079718\n",
      "75\n",
      "219.14146631211042\n"
     ]
    }
   ],
   "source": [
    "# Create the model with given dimensions\n",
    "model = GCN(384, 500)\n",
    "#model = GAT(384, 500,  num_heads=3)\n",
    "optimizer = torch.optim.Adam(model.parameters(), lr=0.05)\n",
    "epoch_losses = []\n",
    "\n",
    "for epoch in range(80):\n",
    "    epoch_loss = 0\n",
    "    for batch1, batch2, labels in train_dataloader:\n",
    "        batch1.to('cuda:0')\n",
    "        batch2.to('cuda:0')\n",
    "        emb1 = model(batch1, batch1.ndata[\"attr\"].float())\n",
    "        emb2 = model(batch2, batch2.ndata[\"attr\"].float())\n",
    "        cos = nn.CosineEmbeddingLoss(margin=0.5)\n",
    "        loss = cos(emb1,emb2, labels)\n",
    "        optimizer.zero_grad()\n",
    "        loss.backward()\n",
    "        optimizer.step()\n",
    "        epoch_loss += loss.detach().item()\n",
    "    if epoch%5==0:\n",
    "        print(epoch)\n",
    "        print(epoch_loss)\n",
    "    epoch_losses.append(epoch_loss)\n",
    "num_correct = 0\n",
    "num_tests = 0\n"
   ]
  },
  {
   "cell_type": "code",
   "execution_count": 17,
   "id": "c4067dad",
   "metadata": {},
   "outputs": [],
   "source": [
    "import matplotlib.pyplot as plt"
   ]
  },
  {
   "cell_type": "code",
   "execution_count": 18,
   "id": "4a52bb1b",
   "metadata": {},
   "outputs": [
    {
     "data": {
      "text/plain": [
       "Text(0, 0.5, 'Total Loss (All Batches)')"
      ]
     },
     "execution_count": 18,
     "metadata": {},
     "output_type": "execute_result"
    },
    {
     "data": {
      "image/png": "[encoded data removed]",
      "text/plain": [
       "<Figure size 640x480 with 1 Axes>"
      ]
     },
     "metadata": {},
     "output_type": "display_data"
    }
   ],
   "source": [
    "plt.plot(epoch_losses)\n",
    "plt.title(\"GCN Training Loss\")\n",
    "plt.xlabel(\"Epoch\")\n",
    "plt.ylabel(\"Total Loss (All Batches)\")"
   ]
  },
  {
   "cell_type": "code",
   "execution_count": 19,
   "id": "70afdcd7",
   "metadata": {},
   "outputs": [],
   "source": [
    "torch.save(model, f=\"3GCNmodel.torch\")"
   ]
  },
  {
   "cell_type": "code",
   "execution_count": 20,
   "id": "0582d30b",
   "metadata": {},
   "outputs": [
    {
     "ename": "ModuleNotFoundError",
     "evalue": "No module named 'sklearn'",
     "output_type": "error",
     "traceback": [
      "\u001b[1;31m---------------------------------------------------------------------------\u001b[0m",
      "\u001b[1;31mModuleNotFoundError\u001b[0m                       Traceback (most recent call last)",
      "Cell \u001b[1;32mIn[20], line 1\u001b[0m\n\u001b[1;32m----> 1\u001b[0m \u001b[38;5;28;01mfrom\u001b[39;00m \u001b[38;5;21;01msklearn\u001b[39;00m\u001b[38;5;21;01m.\u001b[39;00m\u001b[38;5;21;01mmetrics\u001b[39;00m\u001b[38;5;21;01m.\u001b[39;00m\u001b[38;5;21;01mpairwise\u001b[39;00m \u001b[38;5;28;01mimport\u001b[39;00m cosine_similarity\n",
      "\u001b[1;31mModuleNotFoundError\u001b[0m: No module named 'sklearn'"
     ]
    }
   ],
   "source": [
    "from sklearn.metrics.pairwise import cosine_similarity\n"
   ]
  },
  {
   "cell_type": "code",
   "execution_count": 21,
   "id": "ae1e6cd3",
   "metadata": {},
   "outputs": [],
   "source": [
    "cos = nn.CosineSimilarity(dim=1, eps=1e-6)"
   ]
  },
  {
   "cell_type": "code",
   "execution_count": 22,
   "id": "ce848602",
   "metadata": {},
   "outputs": [],
   "source": [
    "score=[]\n",
    "lab=[]"
   ]
  },
  {
   "cell_type": "code",
   "execution_count": 23,
   "id": "f5c823ea",
   "metadata": {},
   "outputs": [],
   "source": [
    "from scipy import spatial"
   ]
  },
  {
   "cell_type": "code",
   "execution_count": 24,
   "id": "29dc8c86",
   "metadata": {},
   "outputs": [
    {
     "ename": "IndexError",
     "evalue": "index 8 is out of bounds for dimension 0 with size 8",
     "output_type": "error",
     "traceback": [
      "\u001b[1;31m---------------------------------------------------------------------------\u001b[0m",
      "\u001b[1;31mIndexError\u001b[0m                                Traceback (most recent call last)",
      "Cell \u001b[1;32mIn[24], line 7\u001b[0m\n\u001b[0;32m      5\u001b[0m emb2 \u001b[38;5;241m=\u001b[39m model(batch2, batch2\u001b[38;5;241m.\u001b[39mndata[\u001b[38;5;124m\"\u001b[39m\u001b[38;5;124mattr\u001b[39m\u001b[38;5;124m\"\u001b[39m]\u001b[38;5;241m.\u001b[39mfloat())\n\u001b[0;32m      6\u001b[0m \u001b[38;5;28;01mfor\u001b[39;00m i \u001b[38;5;129;01min\u001b[39;00m \u001b[38;5;28mrange\u001b[39m(\u001b[38;5;241m0\u001b[39m,\u001b[38;5;241m10\u001b[39m):\n\u001b[1;32m----> 7\u001b[0m     one\u001b[38;5;241m=\u001b[39m\u001b[43memb1\u001b[49m\u001b[43m[\u001b[49m\u001b[43mi\u001b[49m\u001b[43m]\u001b[49m\n\u001b[0;32m      8\u001b[0m     two\u001b[38;5;241m=\u001b[39memb2[i]\n\u001b[0;32m      9\u001b[0m     label\u001b[38;5;241m=\u001b[39mlabels\u001b[38;5;241m.\u001b[39mtolist()[i]\n",
      "\u001b[1;31mIndexError\u001b[0m: index 8 is out of bounds for dimension 0 with size 8"
     ]
    }
   ],
   "source": [
    "\n",
    "score=[]\n",
    "lab=[]\n",
    "for batch1, batch2, labels in test_dataloader:\n",
    "    emb1 = model(batch1, batch1.ndata[\"attr\"].float())\n",
    "    emb2 = model(batch2, batch2.ndata[\"attr\"].float())\n",
    "    for i in range(0,10):\n",
    "        one=emb1[i]\n",
    "        two=emb2[i]\n",
    "        label=labels.tolist()[i]\n",
    "        cos=1-spatial.distance.cosine(one.tolist(), two.tolist())\n",
    "        score.append(cos)\n",
    "        lab.append(label)"
   ]
  },
  {
   "cell_type": "code",
   "execution_count": null,
   "id": "69f43f09",
   "metadata": {},
   "outputs": [],
   "source": []
  },
  {
   "cell_type": "code",
   "execution_count": 18,
   "id": "798547dc",
   "metadata": {},
   "outputs": [],
   "source": [
    "\n",
    "score=[]\n",
    "lab=[]\n",
    "for graph in g:\n",
    "    try:\n",
    "        emb1 = model(graph[0], graph[0].ndata[\"attr\"].float())\n",
    "        emb2 = model(graph[1], graph[1].ndata[\"attr\"].float())\n",
    "    except:\n",
    "        continue\n",
    "    cos=cosine_similarity(emb2.tolist(), emb1.tolist())[0][0]\n",
    "    #print(cos)\n",
    "    score.append(cos)\n",
    "    lab.append(graph[2])"
   ]
  },
  {
   "cell_type": "code",
   "execution_count": 25,
   "id": "40789808",
   "metadata": {},
   "outputs": [],
   "source": [
    "stats=pd.DataFrame([score, lab]).T"
   ]
  },
  {
   "cell_type": "code",
   "execution_count": 26,
   "id": "e17d6ed3",
   "metadata": {},
   "outputs": [
    {
     "data": {
      "text/html": [
       "<div>\n",
       "<style scoped>\n",
       "    .dataframe tbody tr th:only-of-type {\n",
       "        vertical-align: middle;\n",
       "    }\n",
       "\n",
       "    .dataframe tbody tr th {\n",
       "        vertical-align: top;\n",
       "    }\n",
       "\n",
       "    .dataframe thead th {\n",
       "        text-align: right;\n",
       "    }\n",
       "</style>\n",
       "<table border=\"1\" class=\"dataframe\">\n",
       "  <thead>\n",
       "    <tr style=\"text-align: right;\">\n",
       "      <th></th>\n",
       "      <th>0</th>\n",
       "      <th>1</th>\n",
       "    </tr>\n",
       "  </thead>\n",
       "  <tbody>\n",
       "    <tr>\n",
       "      <th>0</th>\n",
       "      <td>-0.152973</td>\n",
       "      <td>-1.0</td>\n",
       "    </tr>\n",
       "    <tr>\n",
       "      <th>1</th>\n",
       "      <td>0.787356</td>\n",
       "      <td>1.0</td>\n",
       "    </tr>\n",
       "    <tr>\n",
       "      <th>2</th>\n",
       "      <td>0.430223</td>\n",
       "      <td>-1.0</td>\n",
       "    </tr>\n",
       "    <tr>\n",
       "      <th>3</th>\n",
       "      <td>0.861359</td>\n",
       "      <td>1.0</td>\n",
       "    </tr>\n",
       "    <tr>\n",
       "      <th>4</th>\n",
       "      <td>-0.048367</td>\n",
       "      <td>1.0</td>\n",
       "    </tr>\n",
       "    <tr>\n",
       "      <th>...</th>\n",
       "      <td>...</td>\n",
       "      <td>...</td>\n",
       "    </tr>\n",
       "    <tr>\n",
       "      <th>3623</th>\n",
       "      <td>0.695903</td>\n",
       "      <td>-1.0</td>\n",
       "    </tr>\n",
       "    <tr>\n",
       "      <th>3624</th>\n",
       "      <td>0.840682</td>\n",
       "      <td>1.0</td>\n",
       "    </tr>\n",
       "    <tr>\n",
       "      <th>3625</th>\n",
       "      <td>0.756865</td>\n",
       "      <td>1.0</td>\n",
       "    </tr>\n",
       "    <tr>\n",
       "      <th>3626</th>\n",
       "      <td>0.884018</td>\n",
       "      <td>-1.0</td>\n",
       "    </tr>\n",
       "    <tr>\n",
       "      <th>3627</th>\n",
       "      <td>0.799405</td>\n",
       "      <td>-1.0</td>\n",
       "    </tr>\n",
       "  </tbody>\n",
       "</table>\n",
       "<p>3628 rows × 2 columns</p>\n",
       "</div>"
      ],
      "text/plain": [
       "             0    1\n",
       "0    -0.152973 -1.0\n",
       "1     0.787356  1.0\n",
       "2     0.430223 -1.0\n",
       "3     0.861359  1.0\n",
       "4    -0.048367  1.0\n",
       "...        ...  ...\n",
       "3623  0.695903 -1.0\n",
       "3624  0.840682  1.0\n",
       "3625  0.756865  1.0\n",
       "3626  0.884018 -1.0\n",
       "3627  0.799405 -1.0\n",
       "\n",
       "[3628 rows x 2 columns]"
      ]
     },
     "execution_count": 26,
     "metadata": {},
     "output_type": "execute_result"
    }
   ],
   "source": [
    "stats"
   ]
  },
  {
   "cell_type": "code",
   "execution_count": 27,
   "id": "01ccea41",
   "metadata": {},
   "outputs": [
    {
     "data": {
      "text/plain": [
       "0.7130120597903274"
      ]
     },
     "execution_count": 27,
     "metadata": {},
     "output_type": "execute_result"
    }
   ],
   "source": [
    "stats[stats[1]==1][0].mean()"
   ]
  },
  {
   "cell_type": "code",
   "execution_count": 28,
   "id": "bb76e6e2",
   "metadata": {},
   "outputs": [
    {
     "data": {
      "text/plain": [
       "0.6253561511242705"
      ]
     },
     "execution_count": 28,
     "metadata": {},
     "output_type": "execute_result"
    }
   ],
   "source": [
    "stats[stats[1]==-1][0].mean()"
   ]
  },
  {
   "cell_type": "code",
   "execution_count": 29,
   "id": "6ef7af14",
   "metadata": {},
   "outputs": [],
   "source": [
    "stats.to_csv(\"gcn_full.csv\")"
   ]
  },
  {
   "cell_type": "code",
   "execution_count": 189,
   "id": "d7aa7f33",
   "metadata": {},
   "outputs": [
    {
     "data": {
      "text/plain": [
       "0.9309332405067987"
      ]
     },
     "execution_count": 189,
     "metadata": {},
     "output_type": "execute_result"
    }
   ],
   "source": [
    "score[-1]"
   ]
  },
  {
   "cell_type": "code",
   "execution_count": 185,
   "id": "068f1585",
   "metadata": {},
   "outputs": [
    {
     "data": {
      "text/plain": [
       "0.9945468403917865"
      ]
     },
     "execution_count": 185,
     "metadata": {},
     "output_type": "execute_result"
    }
   ],
   "source": [
    "cosine_similarity(emb2.tolist(), emb1.tolist())[0][0]"
   ]
  },
  {
   "cell_type": "code",
   "execution_count": 148,
   "id": "530c3526",
   "metadata": {},
   "outputs": [],
   "source": [
    "for graph in g:\n",
    "    "
   ]
  },
  {
   "cell_type": "code",
   "execution_count": 152,
   "id": "eef22dc7",
   "metadata": {},
   "outputs": [
    {
     "data": {
      "text/html": [
       "<div>\n",
       "<style scoped>\n",
       "    .dataframe tbody tr th:only-of-type {\n",
       "        vertical-align: middle;\n",
       "    }\n",
       "\n",
       "    .dataframe tbody tr th {\n",
       "        vertical-align: top;\n",
       "    }\n",
       "\n",
       "    .dataframe thead th {\n",
       "        text-align: right;\n",
       "    }\n",
       "</style>\n",
       "<table border=\"1\" class=\"dataframe\">\n",
       "  <thead>\n",
       "    <tr style=\"text-align: right;\">\n",
       "      <th></th>\n",
       "      <th>0</th>\n",
       "      <th>1</th>\n",
       "    </tr>\n",
       "  </thead>\n",
       "  <tbody>\n",
       "    <tr>\n",
       "      <th>0</th>\n",
       "      <td>1</td>\n",
       "      <td>[tensor(1.0000, grad_fn=&lt;UnbindBackward0&gt;)]</td>\n",
       "    </tr>\n",
       "    <tr>\n",
       "      <th>1</th>\n",
       "      <td>1</td>\n",
       "      <td>[tensor(1., grad_fn=&lt;UnbindBackward0&gt;)]</td>\n",
       "    </tr>\n",
       "    <tr>\n",
       "      <th>2</th>\n",
       "      <td>1</td>\n",
       "      <td>[tensor(1.0000, grad_fn=&lt;UnbindBackward0&gt;)]</td>\n",
       "    </tr>\n",
       "    <tr>\n",
       "      <th>3</th>\n",
       "      <td>1</td>\n",
       "      <td>[tensor(1.0000, grad_fn=&lt;UnbindBackward0&gt;)]</td>\n",
       "    </tr>\n",
       "    <tr>\n",
       "      <th>4</th>\n",
       "      <td>1</td>\n",
       "      <td>[tensor(1.0000, grad_fn=&lt;UnbindBackward0&gt;)]</td>\n",
       "    </tr>\n",
       "    <tr>\n",
       "      <th>...</th>\n",
       "      <td>...</td>\n",
       "      <td>...</td>\n",
       "    </tr>\n",
       "    <tr>\n",
       "      <th>7434</th>\n",
       "      <td>-1</td>\n",
       "      <td>[tensor(1., grad_fn=&lt;UnbindBackward0&gt;)]</td>\n",
       "    </tr>\n",
       "    <tr>\n",
       "      <th>7435</th>\n",
       "      <td>-1</td>\n",
       "      <td>[tensor(1., grad_fn=&lt;UnbindBackward0&gt;)]</td>\n",
       "    </tr>\n",
       "    <tr>\n",
       "      <th>7436</th>\n",
       "      <td>-1</td>\n",
       "      <td>[tensor(1.0000, grad_fn=&lt;UnbindBackward0&gt;)]</td>\n",
       "    </tr>\n",
       "    <tr>\n",
       "      <th>7437</th>\n",
       "      <td>-1</td>\n",
       "      <td>[tensor(1., grad_fn=&lt;UnbindBackward0&gt;)]</td>\n",
       "    </tr>\n",
       "    <tr>\n",
       "      <th>7438</th>\n",
       "      <td>-1</td>\n",
       "      <td>[tensor(1.0000, grad_fn=&lt;UnbindBackward0&gt;)]</td>\n",
       "    </tr>\n",
       "  </tbody>\n",
       "</table>\n",
       "<p>7439 rows × 2 columns</p>\n",
       "</div>"
      ],
      "text/plain": [
       "       0                                            1\n",
       "0      1  [tensor(1.0000, grad_fn=<UnbindBackward0>)]\n",
       "1      1      [tensor(1., grad_fn=<UnbindBackward0>)]\n",
       "2      1  [tensor(1.0000, grad_fn=<UnbindBackward0>)]\n",
       "3      1  [tensor(1.0000, grad_fn=<UnbindBackward0>)]\n",
       "4      1  [tensor(1.0000, grad_fn=<UnbindBackward0>)]\n",
       "...   ..                                          ...\n",
       "7434  -1      [tensor(1., grad_fn=<UnbindBackward0>)]\n",
       "7435  -1      [tensor(1., grad_fn=<UnbindBackward0>)]\n",
       "7436  -1  [tensor(1.0000, grad_fn=<UnbindBackward0>)]\n",
       "7437  -1      [tensor(1., grad_fn=<UnbindBackward0>)]\n",
       "7438  -1  [tensor(1.0000, grad_fn=<UnbindBackward0>)]\n",
       "\n",
       "[7439 rows x 2 columns]"
      ]
     },
     "execution_count": 152,
     "metadata": {},
     "output_type": "execute_result"
    }
   ],
   "source": [
    "pd.DataFrame([lab,score]).T"
   ]
  },
  {
   "cell_type": "code",
   "execution_count": 145,
   "id": "7050f6cc",
   "metadata": {},
   "outputs": [
    {
     "ename": "ValueError",
     "evalue": "Length of values (7439) does not match length of index (8909)",
     "output_type": "error",
     "traceback": [
      "\u001b[1;31m---------------------------------------------------------------------------\u001b[0m",
      "\u001b[1;31mValueError\u001b[0m                                Traceback (most recent call last)",
      "Cell \u001b[1;32mIn[145], line 1\u001b[0m\n\u001b[1;32m----> 1\u001b[0m pairs[\u001b[38;5;124m\"\u001b[39m\u001b[38;5;124mgcn\u001b[39m\u001b[38;5;124m\"\u001b[39m]\u001b[38;5;241m=\u001b[39mscore\n",
      "File \u001b[1;32m~\\anaconda3\\Lib\\site-packages\\pandas\\core\\frame.py:3950\u001b[0m, in \u001b[0;36mDataFrame.__setitem__\u001b[1;34m(self, key, value)\u001b[0m\n\u001b[0;32m   3947\u001b[0m     \u001b[38;5;28mself\u001b[39m\u001b[38;5;241m.\u001b[39m_setitem_array([key], value)\n\u001b[0;32m   3948\u001b[0m \u001b[38;5;28;01melse\u001b[39;00m:\n\u001b[0;32m   3949\u001b[0m     \u001b[38;5;66;03m# set column\u001b[39;00m\n\u001b[1;32m-> 3950\u001b[0m     \u001b[38;5;28mself\u001b[39m\u001b[38;5;241m.\u001b[39m_set_item(key, value)\n",
      "File \u001b[1;32m~\\anaconda3\\Lib\\site-packages\\pandas\\core\\frame.py:4143\u001b[0m, in \u001b[0;36mDataFrame._set_item\u001b[1;34m(self, key, value)\u001b[0m\n\u001b[0;32m   4133\u001b[0m \u001b[38;5;28;01mdef\u001b[39;00m \u001b[38;5;21m_set_item\u001b[39m(\u001b[38;5;28mself\u001b[39m, key, value) \u001b[38;5;241m-\u001b[39m\u001b[38;5;241m>\u001b[39m \u001b[38;5;28;01mNone\u001b[39;00m:\n\u001b[0;32m   4134\u001b[0m \u001b[38;5;250m    \u001b[39m\u001b[38;5;124;03m\"\"\"\u001b[39;00m\n\u001b[0;32m   4135\u001b[0m \u001b[38;5;124;03m    Add series to DataFrame in specified column.\u001b[39;00m\n\u001b[0;32m   4136\u001b[0m \n\u001b[1;32m   (...)\u001b[0m\n\u001b[0;32m   4141\u001b[0m \u001b[38;5;124;03m    ensure homogeneity.\u001b[39;00m\n\u001b[0;32m   4142\u001b[0m \u001b[38;5;124;03m    \"\"\"\u001b[39;00m\n\u001b[1;32m-> 4143\u001b[0m     value \u001b[38;5;241m=\u001b[39m \u001b[38;5;28mself\u001b[39m\u001b[38;5;241m.\u001b[39m_sanitize_column(value)\n\u001b[0;32m   4145\u001b[0m     \u001b[38;5;28;01mif\u001b[39;00m (\n\u001b[0;32m   4146\u001b[0m         key \u001b[38;5;129;01min\u001b[39;00m \u001b[38;5;28mself\u001b[39m\u001b[38;5;241m.\u001b[39mcolumns\n\u001b[0;32m   4147\u001b[0m         \u001b[38;5;129;01mand\u001b[39;00m value\u001b[38;5;241m.\u001b[39mndim \u001b[38;5;241m==\u001b[39m \u001b[38;5;241m1\u001b[39m\n\u001b[0;32m   4148\u001b[0m         \u001b[38;5;129;01mand\u001b[39;00m \u001b[38;5;129;01mnot\u001b[39;00m is_extension_array_dtype(value)\n\u001b[0;32m   4149\u001b[0m     ):\n\u001b[0;32m   4150\u001b[0m         \u001b[38;5;66;03m# broadcast across multiple columns if necessary\u001b[39;00m\n\u001b[0;32m   4151\u001b[0m         \u001b[38;5;28;01mif\u001b[39;00m \u001b[38;5;129;01mnot\u001b[39;00m \u001b[38;5;28mself\u001b[39m\u001b[38;5;241m.\u001b[39mcolumns\u001b[38;5;241m.\u001b[39mis_unique \u001b[38;5;129;01mor\u001b[39;00m \u001b[38;5;28misinstance\u001b[39m(\u001b[38;5;28mself\u001b[39m\u001b[38;5;241m.\u001b[39mcolumns, MultiIndex):\n",
      "File \u001b[1;32m~\\anaconda3\\Lib\\site-packages\\pandas\\core\\frame.py:4870\u001b[0m, in \u001b[0;36mDataFrame._sanitize_column\u001b[1;34m(self, value)\u001b[0m\n\u001b[0;32m   4867\u001b[0m     \u001b[38;5;28;01mreturn\u001b[39;00m _reindex_for_setitem(Series(value), \u001b[38;5;28mself\u001b[39m\u001b[38;5;241m.\u001b[39mindex)\n\u001b[0;32m   4869\u001b[0m \u001b[38;5;28;01mif\u001b[39;00m is_list_like(value):\n\u001b[1;32m-> 4870\u001b[0m     com\u001b[38;5;241m.\u001b[39mrequire_length_match(value, \u001b[38;5;28mself\u001b[39m\u001b[38;5;241m.\u001b[39mindex)\n\u001b[0;32m   4871\u001b[0m \u001b[38;5;28;01mreturn\u001b[39;00m sanitize_array(value, \u001b[38;5;28mself\u001b[39m\u001b[38;5;241m.\u001b[39mindex, copy\u001b[38;5;241m=\u001b[39m\u001b[38;5;28;01mTrue\u001b[39;00m, allow_2d\u001b[38;5;241m=\u001b[39m\u001b[38;5;28;01mTrue\u001b[39;00m)\n",
      "File \u001b[1;32m~\\anaconda3\\Lib\\site-packages\\pandas\\core\\common.py:576\u001b[0m, in \u001b[0;36mrequire_length_match\u001b[1;34m(data, index)\u001b[0m\n\u001b[0;32m    572\u001b[0m \u001b[38;5;250m\u001b[39m\u001b[38;5;124;03m\"\"\"\u001b[39;00m\n\u001b[0;32m    573\u001b[0m \u001b[38;5;124;03mCheck the length of data matches the length of the index.\u001b[39;00m\n\u001b[0;32m    574\u001b[0m \u001b[38;5;124;03m\"\"\"\u001b[39;00m\n\u001b[0;32m    575\u001b[0m \u001b[38;5;28;01mif\u001b[39;00m \u001b[38;5;28mlen\u001b[39m(data) \u001b[38;5;241m!=\u001b[39m \u001b[38;5;28mlen\u001b[39m(index):\n\u001b[1;32m--> 576\u001b[0m     \u001b[38;5;28;01mraise\u001b[39;00m \u001b[38;5;167;01mValueError\u001b[39;00m(\n\u001b[0;32m    577\u001b[0m         \u001b[38;5;124m\"\u001b[39m\u001b[38;5;124mLength of values \u001b[39m\u001b[38;5;124m\"\u001b[39m\n\u001b[0;32m    578\u001b[0m         \u001b[38;5;124mf\u001b[39m\u001b[38;5;124m\"\u001b[39m\u001b[38;5;124m(\u001b[39m\u001b[38;5;132;01m{\u001b[39;00m\u001b[38;5;28mlen\u001b[39m(data)\u001b[38;5;132;01m}\u001b[39;00m\u001b[38;5;124m) \u001b[39m\u001b[38;5;124m\"\u001b[39m\n\u001b[0;32m    579\u001b[0m         \u001b[38;5;124m\"\u001b[39m\u001b[38;5;124mdoes not match length of index \u001b[39m\u001b[38;5;124m\"\u001b[39m\n\u001b[0;32m    580\u001b[0m         \u001b[38;5;124mf\u001b[39m\u001b[38;5;124m\"\u001b[39m\u001b[38;5;124m(\u001b[39m\u001b[38;5;132;01m{\u001b[39;00m\u001b[38;5;28mlen\u001b[39m(index)\u001b[38;5;132;01m}\u001b[39;00m\u001b[38;5;124m)\u001b[39m\u001b[38;5;124m\"\u001b[39m\n\u001b[0;32m    581\u001b[0m     )\n",
      "\u001b[1;31mValueError\u001b[0m: Length of values (7439) does not match length of index (8909)"
     ]
    }
   ],
   "source": [
    "pairs[\"gcn\"]=score"
   ]
  },
  {
   "cell_type": "code",
   "execution_count": null,
   "id": "72b873a4",
   "metadata": {},
   "outputs": [],
   "source": [
    "for batch1,batch2, labels in test_dataloader:\n",
    "    emb1 = model(batch1, batch1.ndata[\"attr\"].float())\n",
    "    emb2 = model(batch2, batch2.ndata[\"attr\"].float())\n",
    "\n",
    "print(\"Test accuracy:\", num_correct / num_tests)"
   ]
  },
  {
   "cell_type": "code",
   "execution_count": 8,
   "id": "cc064a66",
   "metadata": {},
   "outputs": [],
   "source": [
    "pred = model(batched_graph, batched_graph.ndata[\"attr\"].float())"
   ]
  },
  {
   "cell_type": "code",
   "execution_count": 12,
   "id": "44cda17b",
   "metadata": {},
   "outputs": [
    {
     "data": {
      "text/plain": [
       "{'label': tensor([0, 0, 1, 1, 1, 1, 1, 1, 1, 1, 1, 2, 2, 2, 0, 0, 0, 1, 1, 1, 1, 1, 1, 1,\n",
       "        2, 2, 2, 2, 2, 0, 0, 0, 0, 0, 0, 1, 1, 1, 1, 1, 1, 1, 1, 1, 1, 1]), 'attr': tensor([[1., 0., 0.],\n",
       "        [1., 0., 0.],\n",
       "        [0., 1., 0.],\n",
       "        [0., 1., 0.],\n",
       "        [0., 1., 0.],\n",
       "        [0., 1., 0.],\n",
       "        [0., 1., 0.],\n",
       "        [0., 1., 0.],\n",
       "        [0., 1., 0.],\n",
       "        [0., 1., 0.],\n",
       "        [0., 1., 0.],\n",
       "        [0., 0., 1.],\n",
       "        [0., 0., 1.],\n",
       "        [0., 0., 1.],\n",
       "        [1., 0., 0.],\n",
       "        [1., 0., 0.],\n",
       "        [1., 0., 0.],\n",
       "        [0., 1., 0.],\n",
       "        [0., 1., 0.],\n",
       "        [0., 1., 0.],\n",
       "        [0., 1., 0.],\n",
       "        [0., 1., 0.],\n",
       "        [0., 1., 0.],\n",
       "        [0., 1., 0.],\n",
       "        [0., 0., 1.],\n",
       "        [0., 0., 1.],\n",
       "        [0., 0., 1.],\n",
       "        [0., 0., 1.],\n",
       "        [0., 0., 1.],\n",
       "        [1., 0., 0.],\n",
       "        [1., 0., 0.],\n",
       "        [1., 0., 0.],\n",
       "        [1., 0., 0.],\n",
       "        [1., 0., 0.],\n",
       "        [1., 0., 0.],\n",
       "        [0., 1., 0.],\n",
       "        [0., 1., 0.],\n",
       "        [0., 1., 0.],\n",
       "        [0., 1., 0.],\n",
       "        [0., 1., 0.],\n",
       "        [0., 1., 0.],\n",
       "        [0., 1., 0.],\n",
       "        [0., 1., 0.],\n",
       "        [0., 1., 0.],\n",
       "        [0., 1., 0.],\n",
       "        [0., 1., 0.]]), 'h': tensor([[ 0.2116, -0.5495],\n",
       "        [ 0.2430, -0.5933],\n",
       "        [-0.1184, -0.3367],\n",
       "        [ 0.1602, -0.5402],\n",
       "        [ 0.2116, -0.5495],\n",
       "        [-0.2462, -0.2658],\n",
       "        [-0.1305, -0.3515],\n",
       "        [-0.0782, -0.4054],\n",
       "        [-0.2462, -0.2658],\n",
       "        [-0.0482, -0.4282],\n",
       "        [-0.1184, -0.3367],\n",
       "        [-0.0782, -0.4054],\n",
       "        [ 0.2564, -0.5826],\n",
       "        [-0.0151, -0.4294],\n",
       "        [ 1.2312, -1.3224],\n",
       "        [ 1.4299, -1.4391],\n",
       "        [ 1.4299, -1.4391],\n",
       "        [-0.2471, -0.2937],\n",
       "        [-0.1213, -0.3284],\n",
       "        [ 0.1432, -0.5295],\n",
       "        [ 0.4837, -0.7392],\n",
       "        [-0.2471, -0.2937],\n",
       "        [ 1.2312, -1.3224],\n",
       "        [ 0.6295, -0.8723],\n",
       "        [-0.1213, -0.3284],\n",
       "        [-0.0306, -0.3815],\n",
       "        [ 0.6963, -0.8839],\n",
       "        [ 0.7278, -0.9102],\n",
       "        [ 0.6032, -0.8494],\n",
       "        [ 1.0635, -0.9481],\n",
       "        [ 0.7388, -0.8404],\n",
       "        [ 0.2980, -0.6221],\n",
       "        [ 1.2261, -1.3040],\n",
       "        [ 0.9678, -0.9867],\n",
       "        [ 0.8868, -1.0838],\n",
       "        [-0.2659, -0.2334],\n",
       "        [-0.4780, -0.1395],\n",
       "        [-0.0314, -0.4513],\n",
       "        [-0.4780, -0.1395],\n",
       "        [ 0.0695, -0.5132],\n",
       "        [-0.5109, -0.1764],\n",
       "        [ 0.2533, -0.6080],\n",
       "        [-0.4764, -0.1541],\n",
       "        [-0.0037, -0.4743],\n",
       "        [ 0.0534, -0.4805],\n",
       "        [-0.0730, -0.4726]], grad_fn=<AddBackward0>)}"
      ]
     },
     "execution_count": 12,
     "metadata": {},
     "output_type": "execute_result"
    }
   ],
   "source": [
    "batched_graph.ndata"
   ]
  },
  {
   "cell_type": "code",
   "execution_count": 10,
   "id": "2f8e0857",
   "metadata": {},
   "outputs": [
    {
     "data": {
      "text/plain": [
       "tensor([[1., 0., 0.],\n",
       "        [1., 0., 0.],\n",
       "        [0., 1., 0.],\n",
       "        [0., 1., 0.],\n",
       "        [0., 1., 0.],\n",
       "        [0., 1., 0.],\n",
       "        [0., 1., 0.],\n",
       "        [0., 1., 0.],\n",
       "        [0., 1., 0.],\n",
       "        [0., 1., 0.],\n",
       "        [0., 1., 0.],\n",
       "        [0., 0., 1.],\n",
       "        [0., 0., 1.],\n",
       "        [0., 0., 1.],\n",
       "        [1., 0., 0.],\n",
       "        [1., 0., 0.],\n",
       "        [1., 0., 0.],\n",
       "        [0., 1., 0.],\n",
       "        [0., 1., 0.],\n",
       "        [0., 1., 0.],\n",
       "        [0., 1., 0.],\n",
       "        [0., 1., 0.],\n",
       "        [0., 1., 0.],\n",
       "        [0., 1., 0.],\n",
       "        [0., 0., 1.],\n",
       "        [0., 0., 1.],\n",
       "        [0., 0., 1.],\n",
       "        [0., 0., 1.],\n",
       "        [0., 0., 1.],\n",
       "        [1., 0., 0.],\n",
       "        [1., 0., 0.],\n",
       "        [1., 0., 0.],\n",
       "        [1., 0., 0.],\n",
       "        [1., 0., 0.],\n",
       "        [1., 0., 0.],\n",
       "        [0., 1., 0.],\n",
       "        [0., 1., 0.],\n",
       "        [0., 1., 0.],\n",
       "        [0., 1., 0.],\n",
       "        [0., 1., 0.],\n",
       "        [0., 1., 0.],\n",
       "        [0., 1., 0.],\n",
       "        [0., 1., 0.],\n",
       "        [0., 1., 0.],\n",
       "        [0., 1., 0.],\n",
       "        [0., 1., 0.]])"
      ]
     },
     "execution_count": 10,
     "metadata": {},
     "output_type": "execute_result"
    }
   ],
   "source": [
    "batched_graph.ndata[\"attr\"].float()"
   ]
  },
  {
   "cell_type": "code",
   "execution_count": 9,
   "id": "c12619c8",
   "metadata": {},
   "outputs": [
    {
     "data": {
      "text/plain": [
       "tensor([[ 2.4391e-04, -4.3143e-01],\n",
       "        [ 5.2256e-01, -7.9555e-01],\n",
       "        [ 1.9058e-01, -5.6637e-01]], grad_fn=<DivBackward0>)"
      ]
     },
     "execution_count": 9,
     "metadata": {},
     "output_type": "execute_result"
    }
   ],
   "source": [
    "pred"
   ]
  },
  {
   "cell_type": "code",
   "execution_count": null,
   "id": "8ef2f269",
   "metadata": {},
   "outputs": [],
   "source": []
  }
 ],
 "metadata": {
  "kernelspec": {
   "display_name": "Python 3 (ipykernel)",
   "language": "python",
   "name": "python3"
  },
  "language_info": {
   "codemirror_mode": {
    "name": "ipython",
    "version": 3
   },
   "file_extension": ".py",
   "mimetype": "text/x-python",
   "name": "python",
   "nbconvert_exporter": "python",
   "pygments_lexer": "ipython3",
   "version": "3.11.9"
  }
 },
 "nbformat": 4,
 "nbformat_minor": 5
}
