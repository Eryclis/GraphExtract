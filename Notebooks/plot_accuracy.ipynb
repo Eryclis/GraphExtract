{
 "cells": [
  {
   "cell_type": "code",
   "execution_count": 1,
   "id": "fde27ad7",
   "metadata": {},
   "outputs": [],
   "source": [
    "import pandas as pd"
   ]
  },
  {
   "cell_type": "code",
   "execution_count": 2,
   "id": "abe8aca6",
   "metadata": {},
   "outputs": [],
   "source": [
    "pairs=pd.read_csv(\"textreuse.csv\")"
   ]
  },
  {
   "cell_type": "code",
   "execution_count": 3,
   "id": "2cdae5a2",
   "metadata": {},
   "outputs": [],
   "source": [
    "tm100=pd.read_csv(\"topic_model.csv\")\n",
    "tm100=tm100.set_index(\"id\")\n",
    "tm100=tm100.drop(columns=\"Unnamed: 0\").T"
   ]
  },
  {
   "cell_type": "code",
   "execution_count": 4,
   "id": "3ceec1ca",
   "metadata": {},
   "outputs": [],
   "source": [
    "tm500=pd.read_csv(\"topic_model500.csv\")\n",
    "tm500=tm500.set_index(\"id\")\n",
    "tm500=tm500.drop(columns=\"Unnamed: 0\").T"
   ]
  },
  {
   "cell_type": "code",
   "execution_count": 5,
   "id": "f5762618",
   "metadata": {},
   "outputs": [],
   "source": [
    "gte=pd.read_csv(\"doc_embeddings.csv\")\n",
    "gte=gte.set_index(\"Unnamed: 0\").T\n",
    "#gte=gte.drop(columns=\"Unnamed: 0\").T"
   ]
  },
  {
   "cell_type": "code",
   "execution_count": 6,
   "id": "c141feeb",
   "metadata": {},
   "outputs": [
    {
     "data": {
      "text/html": [
       "<div>\n",
       "<style scoped>\n",
       "    .dataframe tbody tr th:only-of-type {\n",
       "        vertical-align: middle;\n",
       "    }\n",
       "\n",
       "    .dataframe tbody tr th {\n",
       "        vertical-align: top;\n",
       "    }\n",
       "\n",
       "    .dataframe thead th {\n",
       "        text-align: right;\n",
       "    }\n",
       "</style>\n",
       "<table border=\"1\" class=\"dataframe\">\n",
       "  <thead>\n",
       "    <tr style=\"text-align: right;\">\n",
       "      <th></th>\n",
       "      <th>Unnamed: 0</th>\n",
       "      <th>0</th>\n",
       "      <th>1</th>\n",
       "      <th>2</th>\n",
       "      <th>3</th>\n",
       "      <th>4</th>\n",
       "    </tr>\n",
       "  </thead>\n",
       "  <tbody>\n",
       "    <tr>\n",
       "      <th>0</th>\n",
       "      <td>0</td>\n",
       "      <td>3e1c9505a30d903050803e6f7bce6c43aa28b517</td>\n",
       "      <td>90cbf3a00d0149a22c333491256c30f9989aa2a8</td>\n",
       "      <td>1</td>\n",
       "      <td>151631</td>\n",
       "      <td>0</td>\n",
       "    </tr>\n",
       "    <tr>\n",
       "      <th>1</th>\n",
       "      <td>1</td>\n",
       "      <td>a893fc1cc9fe3fef23ca781b4716cc27dbbea357</td>\n",
       "      <td>eba3053f8fb28a88eb8e4ad13c7beb2d6495743f</td>\n",
       "      <td>1</td>\n",
       "      <td>88812</td>\n",
       "      <td>0</td>\n",
       "    </tr>\n",
       "    <tr>\n",
       "      <th>2</th>\n",
       "      <td>2</td>\n",
       "      <td>38e0e2f81b2a472202f6aa0f057382790790331c</td>\n",
       "      <td>bf1b23fcd1cde8cc2b667c72be4ea719f6702266</td>\n",
       "      <td>1</td>\n",
       "      <td>73883</td>\n",
       "      <td>0</td>\n",
       "    </tr>\n",
       "    <tr>\n",
       "      <th>3</th>\n",
       "      <td>3</td>\n",
       "      <td>38d503d8ded311c4925aafb6925ef31297b92e66</td>\n",
       "      <td>b56dc685111eb2f59e49e06af8eeccb3031fc88c</td>\n",
       "      <td>1</td>\n",
       "      <td>79442</td>\n",
       "      <td>1</td>\n",
       "    </tr>\n",
       "    <tr>\n",
       "      <th>4</th>\n",
       "      <td>4</td>\n",
       "      <td>50966c8fef908e63de15163e894f9b30f2772d90</td>\n",
       "      <td>943846d47dba14d0e9a766f77900870f4f259d5d</td>\n",
       "      <td>1</td>\n",
       "      <td>90294</td>\n",
       "      <td>0</td>\n",
       "    </tr>\n",
       "    <tr>\n",
       "      <th>...</th>\n",
       "      <td>...</td>\n",
       "      <td>...</td>\n",
       "      <td>...</td>\n",
       "      <td>...</td>\n",
       "      <td>...</td>\n",
       "      <td>...</td>\n",
       "    </tr>\n",
       "    <tr>\n",
       "      <th>21869</th>\n",
       "      <td>21869</td>\n",
       "      <td>1c8ce4181f9441eae34425fe535fc0d93056b5f1</td>\n",
       "      <td>656e8c5f8bced540425c12d854b2911dddefff14</td>\n",
       "      <td>0</td>\n",
       "      <td>131982</td>\n",
       "      <td>0</td>\n",
       "    </tr>\n",
       "    <tr>\n",
       "      <th>21870</th>\n",
       "      <td>21870</td>\n",
       "      <td>484f88ade497b19c69134b0bdfe7eaed23dd464a</td>\n",
       "      <td>4ecadbbd3c8d124e90a95f1cd016736dda73afb6</td>\n",
       "      <td>0</td>\n",
       "      <td>219346</td>\n",
       "      <td>0</td>\n",
       "    </tr>\n",
       "    <tr>\n",
       "      <th>21871</th>\n",
       "      <td>21871</td>\n",
       "      <td>0b9b4a3ccefef08d8fa96c85f8217b443ebafaa4</td>\n",
       "      <td>72b0bccfab501a8b9b78ac6b9b764dffb6bce169</td>\n",
       "      <td>0</td>\n",
       "      <td>112357</td>\n",
       "      <td>0</td>\n",
       "    </tr>\n",
       "    <tr>\n",
       "      <th>21872</th>\n",
       "      <td>21872</td>\n",
       "      <td>25cf3427268d6488da2758c18d8e4f5a04c304e0</td>\n",
       "      <td>6bbe6220c2ca6735dca36aec2917f8096885d63c</td>\n",
       "      <td>0</td>\n",
       "      <td>117455</td>\n",
       "      <td>0</td>\n",
       "    </tr>\n",
       "    <tr>\n",
       "      <th>21873</th>\n",
       "      <td>21873</td>\n",
       "      <td>98bd534682316181769a9f9c6ff7e35a880d5b2c</td>\n",
       "      <td>d3fd26d00fd34fb18ff4cd00c4b4c7a2139341bc</td>\n",
       "      <td>0</td>\n",
       "      <td>112325</td>\n",
       "      <td>0</td>\n",
       "    </tr>\n",
       "  </tbody>\n",
       "</table>\n",
       "<p>21874 rows × 6 columns</p>\n",
       "</div>"
      ],
      "text/plain": [
       "       Unnamed: 0                                         0  \\\n",
       "0               0  3e1c9505a30d903050803e6f7bce6c43aa28b517   \n",
       "1               1  a893fc1cc9fe3fef23ca781b4716cc27dbbea357   \n",
       "2               2  38e0e2f81b2a472202f6aa0f057382790790331c   \n",
       "3               3  38d503d8ded311c4925aafb6925ef31297b92e66   \n",
       "4               4  50966c8fef908e63de15163e894f9b30f2772d90   \n",
       "...           ...                                       ...   \n",
       "21869       21869  1c8ce4181f9441eae34425fe535fc0d93056b5f1   \n",
       "21870       21870  484f88ade497b19c69134b0bdfe7eaed23dd464a   \n",
       "21871       21871  0b9b4a3ccefef08d8fa96c85f8217b443ebafaa4   \n",
       "21872       21872  25cf3427268d6488da2758c18d8e4f5a04c304e0   \n",
       "21873       21873  98bd534682316181769a9f9c6ff7e35a880d5b2c   \n",
       "\n",
       "                                              1  2       3  4  \n",
       "0      90cbf3a00d0149a22c333491256c30f9989aa2a8  1  151631  0  \n",
       "1      eba3053f8fb28a88eb8e4ad13c7beb2d6495743f  1   88812  0  \n",
       "2      bf1b23fcd1cde8cc2b667c72be4ea719f6702266  1   73883  0  \n",
       "3      b56dc685111eb2f59e49e06af8eeccb3031fc88c  1   79442  1  \n",
       "4      943846d47dba14d0e9a766f77900870f4f259d5d  1   90294  0  \n",
       "...                                         ... ..     ... ..  \n",
       "21869  656e8c5f8bced540425c12d854b2911dddefff14  0  131982  0  \n",
       "21870  4ecadbbd3c8d124e90a95f1cd016736dda73afb6  0  219346  0  \n",
       "21871  72b0bccfab501a8b9b78ac6b9b764dffb6bce169  0  112357  0  \n",
       "21872  6bbe6220c2ca6735dca36aec2917f8096885d63c  0  117455  0  \n",
       "21873  d3fd26d00fd34fb18ff4cd00c4b4c7a2139341bc  0  112325  0  \n",
       "\n",
       "[21874 rows x 6 columns]"
      ]
     },
     "execution_count": 6,
     "metadata": {},
     "output_type": "execute_result"
    }
   ],
   "source": [
    "pairs"
   ]
  },
  {
   "cell_type": "code",
   "execution_count": 7,
   "id": "3ef8d58c",
   "metadata": {},
   "outputs": [],
   "source": [
    "from scipy import spatial"
   ]
  },
  {
   "cell_type": "code",
   "execution_count": 8,
   "id": "4d405c5b",
   "metadata": {},
   "outputs": [],
   "source": [
    "import numpy as np"
   ]
  },
  {
   "cell_type": "code",
   "execution_count": 9,
   "id": "5ef24b52",
   "metadata": {},
   "outputs": [],
   "source": [
    "from numpy import dot\n",
    "from numpy.linalg import norm"
   ]
  },
  {
   "cell_type": "code",
   "execution_count": 10,
   "id": "847f656c",
   "metadata": {},
   "outputs": [],
   "source": [
    "simg=[]\n",
    "simt=[]\n",
    "simt5=[]\n",
    "for i in range(0,len(pairs)):\n",
    "    g1=pairs[\"0\"][i]\n",
    "    g2=pairs[\"1\"][i]\n",
    "    simt.append(1-spatial.distance.cosine(tm100[g1],tm100[g2]))\n",
    "    simt5.append(1-spatial.distance.cosine(tm500[g1],tm500[g2]))\n",
    "    simg.append(1-spatial.distance.cosine(gte[g1],gte[g2]))"
   ]
  },
  {
   "cell_type": "code",
   "execution_count": 11,
   "id": "b373bd4a",
   "metadata": {},
   "outputs": [],
   "source": [
    "pairs[\"gte\"]=simg"
   ]
  },
  {
   "cell_type": "code",
   "execution_count": 12,
   "id": "704f850d",
   "metadata": {},
   "outputs": [],
   "source": [
    "pairs[\"tm\"]=simt\n",
    "pairs[\"tm5\"]=simt5"
   ]
  },
  {
   "cell_type": "code",
   "execution_count": 13,
   "id": "930cd4de",
   "metadata": {},
   "outputs": [],
   "source": [
    "import matplotlib.pyplot as plt\n",
    "import numpy as np"
   ]
  },
  {
   "cell_type": "code",
   "execution_count": 14,
   "id": "1ca438c1",
   "metadata": {},
   "outputs": [],
   "source": [
    "from scipy.stats import ranksums"
   ]
  },
  {
   "cell_type": "code",
   "execution_count": 22,
   "id": "197f8adf",
   "metadata": {},
   "outputs": [],
   "source": [
    "import sklearn.metrics as metrics\n"
   ]
  },
  {
   "cell_type": "code",
   "execution_count": 24,
   "id": "46a2905f",
   "metadata": {},
   "outputs": [],
   "source": [
    "gcn=pd.read_csv(\"gcn_full.csv\")"
   ]
  },
  {
   "cell_type": "code",
   "execution_count": 42,
   "id": "df683f2f",
   "metadata": {},
   "outputs": [],
   "source": [
    "a=gcn[gcn[\"1\"]==1][\"0\"]\n",
    "b=gcn[gcn[\"1\"]==0][\"0\"]"
   ]
  },
  {
   "cell_type": "code",
   "execution_count": 26,
   "id": "d2d22925",
   "metadata": {},
   "outputs": [],
   "source": [
    "a=pairs[pairs[\"2\"]==1][\"4\"]\n",
    "b=pairs[pairs[\"2\"]==0][\"4\"]"
   ]
  },
  {
   "cell_type": "code",
   "execution_count": 27,
   "id": "d16abd17",
   "metadata": {},
   "outputs": [],
   "source": [
    "a=pairs[pairs[\"2\"]==1][\"tm5\"]\n",
    "b=pairs[pairs[\"2\"]==0][\"tm5\"]"
   ]
  },
  {
   "cell_type": "code",
   "execution_count": 28,
   "id": "79f2cd8a",
   "metadata": {},
   "outputs": [],
   "source": [
    "a=pairs[pairs[\"2\"]==1][\"gte\"]\n",
    "b=pairs[pairs[\"2\"]==0][\"gte\"]"
   ]
  },
  {
   "cell_type": "code",
   "execution_count": 29,
   "id": "c7ad7683",
   "metadata": {},
   "outputs": [],
   "source": [
    "from sklearn.metrics import f1_score"
   ]
  },
  {
   "cell_type": "code",
   "execution_count": 36,
   "id": "b6d632a8",
   "metadata": {},
   "outputs": [
    {
     "data": {
      "text/plain": [
       "0.5439749608763693"
      ]
     },
     "execution_count": 36,
     "metadata": {},
     "output_type": "execute_result"
    }
   ],
   "source": [
    "t=threshold1[np.argmax(tpr1 - fpr1)]\n",
    "gcn[\"pred\"]=gcn[\"0\"]>t\n",
    "gcn[\"1\"]=gcn[\"1\"]>0\n",
    "f1_score(gcn[\"1\"],gcn[\"pred\"])"
   ]
  },
  {
   "cell_type": "code",
   "execution_count": 37,
   "id": "a1ea2cbc",
   "metadata": {},
   "outputs": [
    {
     "data": {
      "text/html": [
       "<div>\n",
       "<style scoped>\n",
       "    .dataframe tbody tr th:only-of-type {\n",
       "        vertical-align: middle;\n",
       "    }\n",
       "\n",
       "    .dataframe tbody tr th {\n",
       "        vertical-align: top;\n",
       "    }\n",
       "\n",
       "    .dataframe thead th {\n",
       "        text-align: right;\n",
       "    }\n",
       "</style>\n",
       "<table border=\"1\" class=\"dataframe\">\n",
       "  <thead>\n",
       "    <tr style=\"text-align: right;\">\n",
       "      <th></th>\n",
       "      <th>Unnamed: 0</th>\n",
       "      <th>0</th>\n",
       "      <th>1</th>\n",
       "      <th>2</th>\n",
       "      <th>3</th>\n",
       "      <th>4</th>\n",
       "      <th>gte</th>\n",
       "      <th>tm</th>\n",
       "      <th>tm5</th>\n",
       "    </tr>\n",
       "  </thead>\n",
       "  <tbody>\n",
       "    <tr>\n",
       "      <th>0</th>\n",
       "      <td>0</td>\n",
       "      <td>3e1c9505a30d903050803e6f7bce6c43aa28b517</td>\n",
       "      <td>90cbf3a00d0149a22c333491256c30f9989aa2a8</td>\n",
       "      <td>1</td>\n",
       "      <td>151631</td>\n",
       "      <td>0</td>\n",
       "      <td>0.830454</td>\n",
       "      <td>0.000000</td>\n",
       "      <td>0.000000</td>\n",
       "    </tr>\n",
       "    <tr>\n",
       "      <th>1</th>\n",
       "      <td>1</td>\n",
       "      <td>a893fc1cc9fe3fef23ca781b4716cc27dbbea357</td>\n",
       "      <td>eba3053f8fb28a88eb8e4ad13c7beb2d6495743f</td>\n",
       "      <td>1</td>\n",
       "      <td>88812</td>\n",
       "      <td>0</td>\n",
       "      <td>0.816034</td>\n",
       "      <td>0.000000</td>\n",
       "      <td>0.000000</td>\n",
       "    </tr>\n",
       "    <tr>\n",
       "      <th>2</th>\n",
       "      <td>2</td>\n",
       "      <td>38e0e2f81b2a472202f6aa0f057382790790331c</td>\n",
       "      <td>bf1b23fcd1cde8cc2b667c72be4ea719f6702266</td>\n",
       "      <td>1</td>\n",
       "      <td>73883</td>\n",
       "      <td>0</td>\n",
       "      <td>0.864944</td>\n",
       "      <td>0.000000</td>\n",
       "      <td>0.009299</td>\n",
       "    </tr>\n",
       "    <tr>\n",
       "      <th>3</th>\n",
       "      <td>3</td>\n",
       "      <td>38d503d8ded311c4925aafb6925ef31297b92e66</td>\n",
       "      <td>b56dc685111eb2f59e49e06af8eeccb3031fc88c</td>\n",
       "      <td>1</td>\n",
       "      <td>79442</td>\n",
       "      <td>1</td>\n",
       "      <td>0.948107</td>\n",
       "      <td>0.991692</td>\n",
       "      <td>0.081864</td>\n",
       "    </tr>\n",
       "    <tr>\n",
       "      <th>4</th>\n",
       "      <td>4</td>\n",
       "      <td>50966c8fef908e63de15163e894f9b30f2772d90</td>\n",
       "      <td>943846d47dba14d0e9a766f77900870f4f259d5d</td>\n",
       "      <td>1</td>\n",
       "      <td>90294</td>\n",
       "      <td>0</td>\n",
       "      <td>0.853991</td>\n",
       "      <td>0.872723</td>\n",
       "      <td>0.418247</td>\n",
       "    </tr>\n",
       "    <tr>\n",
       "      <th>...</th>\n",
       "      <td>...</td>\n",
       "      <td>...</td>\n",
       "      <td>...</td>\n",
       "      <td>...</td>\n",
       "      <td>...</td>\n",
       "      <td>...</td>\n",
       "      <td>...</td>\n",
       "      <td>...</td>\n",
       "      <td>...</td>\n",
       "    </tr>\n",
       "    <tr>\n",
       "      <th>21869</th>\n",
       "      <td>21869</td>\n",
       "      <td>1c8ce4181f9441eae34425fe535fc0d93056b5f1</td>\n",
       "      <td>656e8c5f8bced540425c12d854b2911dddefff14</td>\n",
       "      <td>0</td>\n",
       "      <td>131982</td>\n",
       "      <td>0</td>\n",
       "      <td>0.936408</td>\n",
       "      <td>0.897392</td>\n",
       "      <td>0.532204</td>\n",
       "    </tr>\n",
       "    <tr>\n",
       "      <th>21870</th>\n",
       "      <td>21870</td>\n",
       "      <td>484f88ade497b19c69134b0bdfe7eaed23dd464a</td>\n",
       "      <td>4ecadbbd3c8d124e90a95f1cd016736dda73afb6</td>\n",
       "      <td>0</td>\n",
       "      <td>219346</td>\n",
       "      <td>0</td>\n",
       "      <td>0.875276</td>\n",
       "      <td>0.061673</td>\n",
       "      <td>0.000748</td>\n",
       "    </tr>\n",
       "    <tr>\n",
       "      <th>21871</th>\n",
       "      <td>21871</td>\n",
       "      <td>0b9b4a3ccefef08d8fa96c85f8217b443ebafaa4</td>\n",
       "      <td>72b0bccfab501a8b9b78ac6b9b764dffb6bce169</td>\n",
       "      <td>0</td>\n",
       "      <td>112357</td>\n",
       "      <td>0</td>\n",
       "      <td>0.840499</td>\n",
       "      <td>0.000000</td>\n",
       "      <td>0.000000</td>\n",
       "    </tr>\n",
       "    <tr>\n",
       "      <th>21872</th>\n",
       "      <td>21872</td>\n",
       "      <td>25cf3427268d6488da2758c18d8e4f5a04c304e0</td>\n",
       "      <td>6bbe6220c2ca6735dca36aec2917f8096885d63c</td>\n",
       "      <td>0</td>\n",
       "      <td>117455</td>\n",
       "      <td>0</td>\n",
       "      <td>0.852033</td>\n",
       "      <td>0.480178</td>\n",
       "      <td>0.000000</td>\n",
       "    </tr>\n",
       "    <tr>\n",
       "      <th>21873</th>\n",
       "      <td>21873</td>\n",
       "      <td>98bd534682316181769a9f9c6ff7e35a880d5b2c</td>\n",
       "      <td>d3fd26d00fd34fb18ff4cd00c4b4c7a2139341bc</td>\n",
       "      <td>0</td>\n",
       "      <td>112325</td>\n",
       "      <td>0</td>\n",
       "      <td>0.898643</td>\n",
       "      <td>0.614718</td>\n",
       "      <td>0.488143</td>\n",
       "    </tr>\n",
       "  </tbody>\n",
       "</table>\n",
       "<p>21874 rows × 9 columns</p>\n",
       "</div>"
      ],
      "text/plain": [
       "       Unnamed: 0                                         0  \\\n",
       "0               0  3e1c9505a30d903050803e6f7bce6c43aa28b517   \n",
       "1               1  a893fc1cc9fe3fef23ca781b4716cc27dbbea357   \n",
       "2               2  38e0e2f81b2a472202f6aa0f057382790790331c   \n",
       "3               3  38d503d8ded311c4925aafb6925ef31297b92e66   \n",
       "4               4  50966c8fef908e63de15163e894f9b30f2772d90   \n",
       "...           ...                                       ...   \n",
       "21869       21869  1c8ce4181f9441eae34425fe535fc0d93056b5f1   \n",
       "21870       21870  484f88ade497b19c69134b0bdfe7eaed23dd464a   \n",
       "21871       21871  0b9b4a3ccefef08d8fa96c85f8217b443ebafaa4   \n",
       "21872       21872  25cf3427268d6488da2758c18d8e4f5a04c304e0   \n",
       "21873       21873  98bd534682316181769a9f9c6ff7e35a880d5b2c   \n",
       "\n",
       "                                              1  2       3  4       gte  \\\n",
       "0      90cbf3a00d0149a22c333491256c30f9989aa2a8  1  151631  0  0.830454   \n",
       "1      eba3053f8fb28a88eb8e4ad13c7beb2d6495743f  1   88812  0  0.816034   \n",
       "2      bf1b23fcd1cde8cc2b667c72be4ea719f6702266  1   73883  0  0.864944   \n",
       "3      b56dc685111eb2f59e49e06af8eeccb3031fc88c  1   79442  1  0.948107   \n",
       "4      943846d47dba14d0e9a766f77900870f4f259d5d  1   90294  0  0.853991   \n",
       "...                                         ... ..     ... ..       ...   \n",
       "21869  656e8c5f8bced540425c12d854b2911dddefff14  0  131982  0  0.936408   \n",
       "21870  4ecadbbd3c8d124e90a95f1cd016736dda73afb6  0  219346  0  0.875276   \n",
       "21871  72b0bccfab501a8b9b78ac6b9b764dffb6bce169  0  112357  0  0.840499   \n",
       "21872  6bbe6220c2ca6735dca36aec2917f8096885d63c  0  117455  0  0.852033   \n",
       "21873  d3fd26d00fd34fb18ff4cd00c4b4c7a2139341bc  0  112325  0  0.898643   \n",
       "\n",
       "             tm       tm5  \n",
       "0      0.000000  0.000000  \n",
       "1      0.000000  0.000000  \n",
       "2      0.000000  0.009299  \n",
       "3      0.991692  0.081864  \n",
       "4      0.872723  0.418247  \n",
       "...         ...       ...  \n",
       "21869  0.897392  0.532204  \n",
       "21870  0.061673  0.000748  \n",
       "21871  0.000000  0.000000  \n",
       "21872  0.480178  0.000000  \n",
       "21873  0.614718  0.488143  \n",
       "\n",
       "[21874 rows x 9 columns]"
      ]
     },
     "execution_count": 37,
     "metadata": {},
     "output_type": "execute_result"
    }
   ],
   "source": [
    "pairs"
   ]
  },
  {
   "cell_type": "code",
   "execution_count": 38,
   "id": "492ddf66",
   "metadata": {},
   "outputs": [
    {
     "data": {
      "text/plain": [
       "0.4579076298022346"
      ]
     },
     "execution_count": 38,
     "metadata": {},
     "output_type": "execute_result"
    }
   ],
   "source": [
    "t=threshold3[np.argmax(tpr3 - fpr3)]\n",
    "f1_score(pairs[\"2\"],pairs[\"tm5\"]>t)"
   ]
  },
  {
   "cell_type": "code",
   "execution_count": 39,
   "id": "3b8a5856",
   "metadata": {},
   "outputs": [
    {
     "data": {
      "text/plain": [
       "0.48430389954495706"
      ]
     },
     "execution_count": 39,
     "metadata": {},
     "output_type": "execute_result"
    }
   ],
   "source": [
    "t=threshold2[np.argmax(tpr2 - fpr2)]\n",
    "f1_score(pairs[\"2\"],pairs[\"gte\"]>t)"
   ]
  },
  {
   "cell_type": "code",
   "execution_count": 40,
   "id": "abc95125",
   "metadata": {},
   "outputs": [
    {
     "data": {
      "text/plain": [
       "0.16811931047840403"
      ]
     },
     "execution_count": 40,
     "metadata": {},
     "output_type": "execute_result"
    }
   ],
   "source": [
    "t=threshold4[np.argmax(tpr4 - fpr4)]\n",
    "f1_score(pairs[\"2\"],pairs[\"4\"]>t)"
   ]
  },
  {
   "cell_type": "code",
   "execution_count": 34,
   "id": "ff1c653c",
   "metadata": {},
   "outputs": [
    {
     "data": {
      "text/plain": [
       "0        True\n",
       "1        True\n",
       "2        True\n",
       "3       False\n",
       "4        True\n",
       "        ...  \n",
       "3623     True\n",
       "3624    False\n",
       "3625    False\n",
       "3626     True\n",
       "3627    False\n",
       "Name: pred, Length: 3628, dtype: bool"
      ]
     },
     "execution_count": 34,
     "metadata": {},
     "output_type": "execute_result"
    }
   ],
   "source": [
    "gcn[\"pred\"]"
   ]
  },
  {
   "cell_type": "code",
   "execution_count": 55,
   "id": "fb6792cd",
   "metadata": {},
   "outputs": [
    {
     "data": {
      "text/html": [
       "<div>\n",
       "<style scoped>\n",
       "    .dataframe tbody tr th:only-of-type {\n",
       "        vertical-align: middle;\n",
       "    }\n",
       "\n",
       "    .dataframe tbody tr th {\n",
       "        vertical-align: top;\n",
       "    }\n",
       "\n",
       "    .dataframe thead th {\n",
       "        text-align: right;\n",
       "    }\n",
       "</style>\n",
       "<table border=\"1\" class=\"dataframe\">\n",
       "  <thead>\n",
       "    <tr style=\"text-align: right;\">\n",
       "      <th></th>\n",
       "      <th>Unnamed: 0</th>\n",
       "      <th>0</th>\n",
       "      <th>1</th>\n",
       "      <th>pred</th>\n",
       "    </tr>\n",
       "  </thead>\n",
       "  <tbody>\n",
       "    <tr>\n",
       "      <th>0</th>\n",
       "      <td>0</td>\n",
       "      <td>0.966434</td>\n",
       "      <td>False</td>\n",
       "      <td>True</td>\n",
       "    </tr>\n",
       "    <tr>\n",
       "      <th>1</th>\n",
       "      <td>1</td>\n",
       "      <td>0.938106</td>\n",
       "      <td>True</td>\n",
       "      <td>True</td>\n",
       "    </tr>\n",
       "    <tr>\n",
       "      <th>2</th>\n",
       "      <td>2</td>\n",
       "      <td>0.976639</td>\n",
       "      <td>False</td>\n",
       "      <td>True</td>\n",
       "    </tr>\n",
       "    <tr>\n",
       "      <th>3</th>\n",
       "      <td>3</td>\n",
       "      <td>0.163066</td>\n",
       "      <td>False</td>\n",
       "      <td>False</td>\n",
       "    </tr>\n",
       "    <tr>\n",
       "      <th>4</th>\n",
       "      <td>4</td>\n",
       "      <td>0.833421</td>\n",
       "      <td>True</td>\n",
       "      <td>True</td>\n",
       "    </tr>\n",
       "    <tr>\n",
       "      <th>...</th>\n",
       "      <td>...</td>\n",
       "      <td>...</td>\n",
       "      <td>...</td>\n",
       "      <td>...</td>\n",
       "    </tr>\n",
       "    <tr>\n",
       "      <th>3623</th>\n",
       "      <td>3623</td>\n",
       "      <td>0.920375</td>\n",
       "      <td>False</td>\n",
       "      <td>True</td>\n",
       "    </tr>\n",
       "    <tr>\n",
       "      <th>3624</th>\n",
       "      <td>3624</td>\n",
       "      <td>0.471969</td>\n",
       "      <td>False</td>\n",
       "      <td>False</td>\n",
       "    </tr>\n",
       "    <tr>\n",
       "      <th>3625</th>\n",
       "      <td>3625</td>\n",
       "      <td>0.639791</td>\n",
       "      <td>False</td>\n",
       "      <td>False</td>\n",
       "    </tr>\n",
       "    <tr>\n",
       "      <th>3626</th>\n",
       "      <td>3626</td>\n",
       "      <td>0.879312</td>\n",
       "      <td>False</td>\n",
       "      <td>True</td>\n",
       "    </tr>\n",
       "    <tr>\n",
       "      <th>3627</th>\n",
       "      <td>3627</td>\n",
       "      <td>0.513564</td>\n",
       "      <td>False</td>\n",
       "      <td>False</td>\n",
       "    </tr>\n",
       "  </tbody>\n",
       "</table>\n",
       "<p>3628 rows × 4 columns</p>\n",
       "</div>"
      ],
      "text/plain": [
       "      Unnamed: 0         0      1   pred\n",
       "0              0  0.966434  False   True\n",
       "1              1  0.938106   True   True\n",
       "2              2  0.976639  False   True\n",
       "3              3  0.163066  False  False\n",
       "4              4  0.833421   True   True\n",
       "...          ...       ...    ...    ...\n",
       "3623        3623  0.920375  False   True\n",
       "3624        3624  0.471969  False  False\n",
       "3625        3625  0.639791  False  False\n",
       "3626        3626  0.879312  False   True\n",
       "3627        3627  0.513564  False  False\n",
       "\n",
       "[3628 rows x 4 columns]"
      ]
     },
     "execution_count": 55,
     "metadata": {},
     "output_type": "execute_result"
    }
   ],
   "source": [
    "gcn"
   ]
  },
  {
   "cell_type": "code",
   "execution_count": 31,
   "id": "e49c862b",
   "metadata": {},
   "outputs": [],
   "source": [
    "fpr1, tpr1, threshold1 = metrics.roc_curve(gcn[\"1\"], gcn[\"0\"])\n",
    "roc_auc1 = metrics.auc(fpr1, tpr1)\n"
   ]
  },
  {
   "cell_type": "code",
   "execution_count": 32,
   "id": "64ed7b1f",
   "metadata": {},
   "outputs": [],
   "source": [
    "fpr2, tpr2, threshold2 = metrics.roc_curve(pairs[\"2\"], pairs[\"gte\"])\n",
    "roc_auc2 = metrics.auc(fpr2, tpr2)"
   ]
  },
  {
   "cell_type": "code",
   "execution_count": 33,
   "id": "057a5bda",
   "metadata": {},
   "outputs": [],
   "source": [
    "fpr3, tpr3, threshold3 = metrics.roc_curve(pairs[\"2\"], pairs[\"tm5\"])\n",
    "roc_auc3 = metrics.auc(fpr3, tpr3)"
   ]
  },
  {
   "cell_type": "code",
   "execution_count": 34,
   "id": "5753c341",
   "metadata": {},
   "outputs": [],
   "source": [
    "fpr4, tpr4, threshold4 = metrics.roc_curve(pairs[\"2\"],pairs[\"4\"]+1/pairs[\"4\"].max())\n",
    "roc_auc4 = metrics.auc(fpr4, tpr4)"
   ]
  },
  {
   "cell_type": "code",
   "execution_count": 35,
   "id": "8b671c5f",
   "metadata": {},
   "outputs": [
    {
     "data": {
      "image/png": "[encoded data removed]",
      "text/plain": [
       "<Figure size 640x480 with 1 Axes>"
      ]
     },
     "metadata": {},
     "output_type": "display_data"
    }
   ],
   "source": [
    "# method I: plt\n",
    "import matplotlib.pyplot as plt\n",
    "plt.title('Receiver Operating Characteristic')\n",
    "plt.plot(fpr1, tpr1, 'b', label = 'KG Embed AUC = %0.2f' % roc_auc1)\n",
    "plt.plot(fpr2, tpr2, 'r', label = 'Doc Embed AUC = %0.2f' % roc_auc2)\n",
    "plt.plot(fpr3, tpr3, 'g', label = 'Topics AUC = %0.2f' % roc_auc3)\n",
    "plt.plot(fpr4, tpr4, 'purple', label = 'Reuse AUC = %0.2f' % roc_auc4)\n",
    "\n",
    "plt.legend(loc = 'lower right')\n",
    "plt.plot([0, 1], [0, 1],'r--')\n",
    "plt.xlim([0, 1])\n",
    "plt.ylim([0, 1])\n",
    "plt.ylabel('True Positive Rate')\n",
    "plt.xlabel('False Positive Rate')\n",
    "plt.show()"
   ]
  },
  {
   "cell_type": "code",
   "execution_count": 43,
   "id": "d5b1a96f",
   "metadata": {},
   "outputs": [
    {
     "data": {
      "text/plain": [
       "RanksumsResult(statistic=11.689064061004068, pvalue=7.24877092097124e-32)"
      ]
     },
     "execution_count": 43,
     "metadata": {},
     "output_type": "execute_result"
    }
   ],
   "source": [
    "ranksums(a,b, alternative='greater')"
   ]
  },
  {
   "cell_type": "code",
   "execution_count": 44,
   "id": "935a19d8",
   "metadata": {},
   "outputs": [
    {
     "data": {
      "text/plain": [
       "Text(0, 0.5, 'Number of text reuse instances detected')"
      ]
     },
     "execution_count": 44,
     "metadata": {},
     "output_type": "execute_result"
    },
    {
     "data": {
      "image/png": "[encoded data removed]",
      "text/plain": [
       "<Figure size 640x480 with 1 Axes>"
      ]
     },
     "metadata": {},
     "output_type": "display_data"
    }
   ],
   "source": [
    "plt.boxplot([a, b], positions=[1,0])\n",
    "plt.title(\"Text reuse for True and False pairs\")\n",
    "plt.xlabel(\"False or True pair\")\n",
    "plt.ylabel(\"Number of text reuse instances detected\")\n"
   ]
  },
  {
   "cell_type": "code",
   "execution_count": 49,
   "id": "495011e1",
   "metadata": {},
   "outputs": [
    {
     "data": {
      "text/plain": [
       "RanksumsResult(statistic=12.028359447825826, pvalue=1.2606036505917809e-33)"
      ]
     },
     "execution_count": 49,
     "metadata": {},
     "output_type": "execute_result"
    }
   ],
   "source": [
    "ranksums( [pairs[pairs[\"2\"]==1][\"4\"],pairs[pairs[\"2\"]==0][\"4\"], alternative='greater')"
   ]
  },
  {
   "cell_type": "code",
   "execution_count": 54,
   "id": "b053de01",
   "metadata": {},
   "outputs": [
    {
     "data": {
      "text/plain": [
       "{'whiskers': [<matplotlib.lines.Line2D at 0x1db7292d1d0>,\n",
       "  <matplotlib.lines.Line2D at 0x1db7292de90>,\n",
       "  <matplotlib.lines.Line2D at 0x1db72936110>,\n",
       "  <matplotlib.lines.Line2D at 0x1db72899390>],\n",
       " 'caps': [<matplotlib.lines.Line2D at 0x1db7292e9d0>,\n",
       "  <matplotlib.lines.Line2D at 0x1db7292f4d0>,\n",
       "  <matplotlib.lines.Line2D at 0x1db72937490>,\n",
       "  <matplotlib.lines.Line2D at 0x1db729480d0>],\n",
       " 'boxes': [<matplotlib.lines.Line2D at 0x1db7292c610>,\n",
       "  <matplotlib.lines.Line2D at 0x1db729355d0>],\n",
       " 'medians': [<matplotlib.lines.Line2D at 0x1db7292ffd0>,\n",
       "  <matplotlib.lines.Line2D at 0x1db72948ad0>],\n",
       " 'fliers': [<matplotlib.lines.Line2D at 0x1db729349d0>,\n",
       "  <matplotlib.lines.Line2D at 0x1db728d0e90>],\n",
       " 'means': []}"
      ]
     },
     "execution_count": 54,
     "metadata": {},
     "output_type": "execute_result"
    },
    {
     "data": {
      "image/png": "[encoded data removed]",
      "text/plain": [
       "<Figure size 640x480 with 1 Axes>"
      ]
     },
     "metadata": {},
     "output_type": "display_data"
    }
   ],
   "source": [
    "plt.boxplot([pairs[pairs[\"2\"]==1][\"4\"],pairs[pairs[\"2\"]==0][\"4\"]], positions=[1,0])"
   ]
  },
  {
   "cell_type": "code",
   "execution_count": 42,
   "id": "cd42a9ab",
   "metadata": {},
   "outputs": [
    {
     "data": {
      "text/plain": [
       "RanksumsResult(statistic=19.384606891755052, pvalue=5.2048664199077415e-84)"
      ]
     },
     "execution_count": 42,
     "metadata": {},
     "output_type": "execute_result"
    }
   ],
   "source": [
    "ranksums(pairs[pairs[\"2\"]==1][\"tm5\"], pairs[pairs[\"2\"]==0][\"tm5\"], alternative='greater')"
   ]
  },
  {
   "cell_type": "code",
   "execution_count": 43,
   "id": "b2afa1c0",
   "metadata": {},
   "outputs": [
    {
     "data": {
      "text/plain": [
       "{'whiskers': [<matplotlib.lines.Line2D at 0x1db70ee26d0>,\n",
       "  <matplotlib.lines.Line2D at 0x1db70ee3090>,\n",
       "  <matplotlib.lines.Line2D at 0x1db70ef6510>,\n",
       "  <matplotlib.lines.Line2D at 0x1db70ef6d90>],\n",
       " 'caps': [<matplotlib.lines.Line2D at 0x1db70ee3950>,\n",
       "  <matplotlib.lines.Line2D at 0x1db70ef42d0>,\n",
       "  <matplotlib.lines.Line2D at 0x1db70ef7590>,\n",
       "  <matplotlib.lines.Line2D at 0x1db70ef7e90>],\n",
       " 'boxes': [<matplotlib.lines.Line2D at 0x1db70ee1ed0>,\n",
       "  <matplotlib.lines.Line2D at 0x1db70ef5c50>],\n",
       " 'medians': [<matplotlib.lines.Line2D at 0x1db70ef4bd0>,\n",
       "  <matplotlib.lines.Line2D at 0x1db70f04710>],\n",
       " 'fliers': [<matplotlib.lines.Line2D at 0x1db70eb3050>,\n",
       "  <matplotlib.lines.Line2D at 0x1db70f04f90>],\n",
       " 'means': []}"
      ]
     },
     "execution_count": 43,
     "metadata": {},
     "output_type": "execute_result"
    },
    {
     "data": {
      "image/png": "[encoded data removed]",
      "text/plain": [
       "<Figure size 640x480 with 1 Axes>"
      ]
     },
     "metadata": {},
     "output_type": "display_data"
    }
   ],
   "source": [
    "plt.boxplot([pairs[pairs[\"2\"]==1][\"tm5\"], pairs[pairs[\"2\"]==0][\"tm5\"]], positions=[0,1])"
   ]
  },
  {
   "cell_type": "code",
   "execution_count": 44,
   "id": "cd8c2a79",
   "metadata": {},
   "outputs": [
    {
     "data": {
      "text/plain": [
       "RanksumsResult(statistic=16.89622822303802, pvalue=2.398108345440871e-64)"
      ]
     },
     "execution_count": 44,
     "metadata": {},
     "output_type": "execute_result"
    }
   ],
   "source": [
    "ranksums(pairs[pairs[\"2\"]==1][\"tm\"], pairs[pairs[\"2\"]==0][\"tm\"], alternative='greater')"
   ]
  },
  {
   "cell_type": "code",
   "execution_count": 45,
   "id": "7dd4ca71",
   "metadata": {},
   "outputs": [
    {
     "data": {
      "text/plain": [
       "{'whiskers': [<matplotlib.lines.Line2D at 0x1db71629f50>,\n",
       "  <matplotlib.lines.Line2D at 0x1db7162a950>,\n",
       "  <matplotlib.lines.Line2D at 0x1db71639f50>,\n",
       "  <matplotlib.lines.Line2D at 0x1db716391d0>],\n",
       " 'caps': [<matplotlib.lines.Line2D at 0x1db7162b290>,\n",
       "  <matplotlib.lines.Line2D at 0x1db7162bb90>,\n",
       "  <matplotlib.lines.Line2D at 0x1db7163b090>,\n",
       "  <matplotlib.lines.Line2D at 0x1db7163b9d0>],\n",
       " 'boxes': [<matplotlib.lines.Line2D at 0x1db71628f50>,\n",
       "  <matplotlib.lines.Line2D at 0x1db71639690>],\n",
       " 'medians': [<matplotlib.lines.Line2D at 0x1db71638490>,\n",
       "  <matplotlib.lines.Line2D at 0x1db71640290>],\n",
       " 'fliers': [<matplotlib.lines.Line2D at 0x1db71638d10>,\n",
       "  <matplotlib.lines.Line2D at 0x1db71640b10>],\n",
       " 'means': []}"
      ]
     },
     "execution_count": 45,
     "metadata": {},
     "output_type": "execute_result"
    },
    {
     "data": {
      "image/png": "[encoded data removed]",
      "text/plain": [
       "<Figure size 640x480 with 1 Axes>"
      ]
     },
     "metadata": {},
     "output_type": "display_data"
    }
   ],
   "source": [
    "plt.boxplot([pairs[pairs[\"2\"]==1][\"tm\"], pairs[pairs[\"2\"]==0][\"tm\"]], positions=[0,1])"
   ]
  },
  {
   "cell_type": "code",
   "execution_count": 46,
   "id": "cfd49239",
   "metadata": {},
   "outputs": [
    {
     "data": {
      "text/plain": [
       "RanksumsResult(statistic=22.94947112790876, pvalue=7.457499473575153e-117)"
      ]
     },
     "execution_count": 46,
     "metadata": {},
     "output_type": "execute_result"
    }
   ],
   "source": [
    "ranksums(pairs[pairs[\"2\"]==1][\"gte\"], pairs[pairs[\"2\"]==0][\"gte\"], alternative='greater')"
   ]
  },
  {
   "cell_type": "code",
   "execution_count": 47,
   "id": "c1288a5b",
   "metadata": {},
   "outputs": [
    {
     "data": {
      "text/plain": [
       "{'whiskers': [<matplotlib.lines.Line2D at 0x1db7169e2d0>,\n",
       "  <matplotlib.lines.Line2D at 0x1db7169ed10>,\n",
       "  <matplotlib.lines.Line2D at 0x1db716ae1d0>,\n",
       "  <matplotlib.lines.Line2D at 0x1db716ac450>],\n",
       " 'caps': [<matplotlib.lines.Line2D at 0x1db7169d250>,\n",
       "  <matplotlib.lines.Line2D at 0x1db7169fd50>,\n",
       "  <matplotlib.lines.Line2D at 0x1db716af1d0>,\n",
       "  <matplotlib.lines.Line2D at 0x1db716afa90>],\n",
       " 'boxes': [<matplotlib.lines.Line2D at 0x1db7169dad0>,\n",
       "  <matplotlib.lines.Line2D at 0x1db716ad990>],\n",
       " 'medians': [<matplotlib.lines.Line2D at 0x1db716ac650>,\n",
       "  <matplotlib.lines.Line2D at 0x1db716b8390>],\n",
       " 'fliers': [<matplotlib.lines.Line2D at 0x1db716acf10>,\n",
       "  <matplotlib.lines.Line2D at 0x1db716b8b10>],\n",
       " 'means': []}"
      ]
     },
     "execution_count": 47,
     "metadata": {},
     "output_type": "execute_result"
    },
    {
     "data": {
      "image/png": "[encoded data removed]",
      "text/plain": [
       "<Figure size 640x480 with 1 Axes>"
      ]
     },
     "metadata": {},
     "output_type": "display_data"
    }
   ],
   "source": [
    "plt.boxplot([pairs[pairs[\"2\"]==1][\"gte\"], pairs[pairs[\"2\"]==0][\"gte\"]], positions=[0,1])"
   ]
  },
  {
   "cell_type": "code",
   "execution_count": 48,
   "id": "b5e35877",
   "metadata": {},
   "outputs": [
    {
     "ename": "NameError",
     "evalue": "name 'sklearn' is not defined",
     "output_type": "error",
     "traceback": [
      "\u001b[1;31m---------------------------------------------------------------------------\u001b[0m",
      "\u001b[1;31mNameError\u001b[0m                                 Traceback (most recent call last)",
      "Cell \u001b[1;32mIn[48], line 1\u001b[0m\n\u001b[1;32m----> 1\u001b[0m sklearn\u001b[38;5;241m.\u001b[39mmetrics\u001b[38;5;241m.\u001b[39mmutual_info_score\n",
      "\u001b[1;31mNameError\u001b[0m: name 'sklearn' is not defined"
     ]
    }
   ],
   "source": [
    "sklearn.metrics.mutual_info_score"
   ]
  },
  {
   "cell_type": "code",
   "execution_count": 49,
   "id": "50d284a6",
   "metadata": {},
   "outputs": [
    {
     "data": {
      "text/plain": [
       "0.8894956231947794"
      ]
     },
     "execution_count": 49,
     "metadata": {},
     "output_type": "execute_result"
    }
   ],
   "source": [
    "pairs[pairs[\"2\"]==1][\"gte\"].mean()"
   ]
  },
  {
   "cell_type": "code",
   "execution_count": 29,
   "id": "26f0824f",
   "metadata": {},
   "outputs": [
    {
     "data": {
      "text/plain": [
       "0.8755345002207542"
      ]
     },
     "execution_count": 29,
     "metadata": {},
     "output_type": "execute_result"
    }
   ],
   "source": [
    "pairs[pairs[\"2\"]==0][\"gte\"].mean()"
   ]
  },
  {
   "cell_type": "code",
   "execution_count": 30,
   "id": "6961d789",
   "metadata": {},
   "outputs": [
    {
     "data": {
      "text/plain": [
       "0.4160118721188105"
      ]
     },
     "execution_count": 30,
     "metadata": {},
     "output_type": "execute_result"
    }
   ],
   "source": [
    "pairs[pairs[\"2\"]==1][\"tm\"].mean()"
   ]
  },
  {
   "cell_type": "code",
   "execution_count": 31,
   "id": "37147864",
   "metadata": {},
   "outputs": [
    {
     "data": {
      "text/plain": [
       "0.32668701148489904"
      ]
     },
     "execution_count": 31,
     "metadata": {},
     "output_type": "execute_result"
    }
   ],
   "source": [
    "pairs[pairs[\"2\"]==0][\"tm\"].mean()"
   ]
  },
  {
   "cell_type": "code",
   "execution_count": 33,
   "id": "79083ee8",
   "metadata": {},
   "outputs": [
    {
     "data": {
      "text/plain": [
       "0.31825973868336316"
      ]
     },
     "execution_count": 33,
     "metadata": {},
     "output_type": "execute_result"
    }
   ],
   "source": [
    "pairs[pairs[\"2\"]==1][\"tm5\"].mean()\n"
   ]
  },
  {
   "cell_type": "code",
   "execution_count": 34,
   "id": "23bd11ac",
   "metadata": {},
   "outputs": [
    {
     "data": {
      "text/plain": [
       "0.23090444529535106"
      ]
     },
     "execution_count": 34,
     "metadata": {},
     "output_type": "execute_result"
    }
   ],
   "source": [
    "pairs[pairs[\"2\"]==0][\"tm5\"].mean()\n"
   ]
  },
  {
   "cell_type": "code",
   "execution_count": null,
   "id": "27fa007d",
   "metadata": {},
   "outputs": [],
   "source": []
  }
 ],
 "metadata": {
  "kernelspec": {
   "display_name": "Python 3 (ipykernel)",
   "language": "python",
   "name": "python3"
  },
  "language_info": {
   "codemirror_mode": {
    "name": "ipython",
    "version": 3
   },
   "file_extension": ".py",
   "mimetype": "text/x-python",
   "name": "python",
   "nbconvert_exporter": "python",
   "pygments_lexer": "ipython3",
   "version": "3.11.9"
  }
 },
 "nbformat": 4,
 "nbformat_minor": 5
}
